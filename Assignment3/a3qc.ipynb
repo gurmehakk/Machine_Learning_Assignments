{
  "cells": [
    {
      "cell_type": "code",
      "execution_count": 2,
      "metadata": {
        "colab": {
          "base_uri": "https://localhost:8080/"
        },
        "id": "3dBRRxJP8WKC",
        "outputId": "5ac63f6b-4a9e-44cb-cd46-229b8434cac4"
      },
      "outputs": [
        {
          "output_type": "stream",
          "name": "stdout",
          "text": [
            "Drive already mounted at /content/drive; to attempt to forcibly remount, call drive.mount(\"/content/drive\", force_remount=True).\n"
          ]
        }
      ],
      "source": [
        "from google.colab import drive\n",
        "drive.mount('/content/drive')"
      ]
    },
    {
      "cell_type": "code",
      "execution_count": 3,
      "metadata": {
        "colab": {
          "base_uri": "https://localhost:8080/"
        },
        "id": "Qsz0qUnSSM58",
        "outputId": "dfe5a804-f8c6-4cd1-86a1-533782687e6e"
      },
      "outputs": [
        {
          "output_type": "stream",
          "name": "stdout",
          "text": [
            "Looking in indexes: https://pypi.org/simple, https://us-python.pkg.dev/colab-wheels/public/simple/\n",
            "Requirement already satisfied: idx2numpy in /usr/local/lib/python3.7/dist-packages (1.2.3)\n",
            "Requirement already satisfied: numpy in /usr/local/lib/python3.7/dist-packages (from idx2numpy) (1.21.6)\n",
            "Requirement already satisfied: six in /usr/local/lib/python3.7/dist-packages (from idx2numpy) (1.15.0)\n"
          ]
        }
      ],
      "source": [
        "%pip install idx2numpy"
      ]
    },
    {
      "cell_type": "code",
      "execution_count": 4,
      "metadata": {
        "id": "aqeUSumR97z4"
      },
      "outputs": [],
      "source": [
        "import numpy as np\n",
        "import pandas as pd\n",
        "import matplotlib.pyplot as plt\n",
        "import seaborn as sns\n",
        "import math\n",
        "import random\n",
        "import idx2numpy\n",
        "import matplotlib.pyplot as plt\n",
        "import matplotlib\n",
        "from sklearn.neural_network import MLPClassifier\n",
        "from sklearn.metrics import confusion_matrix\n",
        "from sklearn import linear_model\n",
        "from sklearn.preprocessing import scale \n",
        "from sklearn.model_selection import GridSearchCV\n",
        "from sklearn.metrics import mean_squared_error \n",
        "from sklearn.preprocessing import StandardScaler\n",
        "from sklearn import preprocessing\n",
        "from sklearn.preprocessing import MinMaxScaler\n",
        "from sklearn.preprocessing import RobustScaler\n",
        "from sklearn.pipeline import Pipeline\n",
        "from sklearn.model_selection import GridSearchCV, RandomizedSearchCV\n",
        "from sklearn.neural_network import MLPClassifier"
      ]
    },
    {
      "cell_type": "code",
      "execution_count": 5,
      "metadata": {
        "id": "vFG4ujAN97ki"
      },
      "outputs": [],
      "source": [
        "x_train = idx2numpy.convert_from_file(\"/content/drive/MyDrive/ml2022/3c/x_train\")\n",
        "y_train = idx2numpy.convert_from_file(\"/content/drive/MyDrive/ml2022/3c/y_train\")\n",
        "x_test = idx2numpy.convert_from_file(\"/content/drive/MyDrive/ml2022/3c/x_test\")\n",
        "y_test = idx2numpy.convert_from_file(\"/content/drive/MyDrive/ml2022/3c/y_test\")"
      ]
    },
    {
      "cell_type": "code",
      "execution_count": null,
      "metadata": {
        "colab": {
          "base_uri": "https://localhost:8080/"
        },
        "id": "Ud6Hzwh3CvYY",
        "outputId": "8a47657a-118f-4a21-8db8-c632b0ed2b31"
      },
      "outputs": [
        {
          "output_type": "execute_result",
          "data": {
            "text/plain": [
              "0    6000\n",
              "1    6000\n",
              "2    6000\n",
              "3    6000\n",
              "4    6000\n",
              "5    6000\n",
              "6    6000\n",
              "7    6000\n",
              "8    6000\n",
              "9    6000\n",
              "dtype: int64"
            ]
          },
          "metadata": {},
          "execution_count": 6
        }
      ],
      "source": [
        "y_df = pd.DataFrame(y_train)\n",
        "y_df.value_counts()"
      ]
    },
    {
      "cell_type": "code",
      "execution_count": null,
      "metadata": {
        "colab": {
          "base_uri": "https://localhost:8080/"
        },
        "id": "tC4gDE7lGb0d",
        "outputId": "170bad88-84af-4a66-fd92-2ccace4970ab"
      },
      "outputs": [
        {
          "output_type": "stream",
          "name": "stdout",
          "text": [
            "(60000, 28, 28)\n",
            "(60000,)\n",
            "(10000, 28, 28)\n",
            "(10000,)\n"
          ]
        }
      ],
      "source": [
        "print(x_train.shape)\n",
        "print(y_train.shape)\n",
        "print(x_test.shape)\n",
        "print(y_test.shape)"
      ]
    },
    {
      "cell_type": "code",
      "execution_count": 6,
      "metadata": {
        "id": "ETLDlrqFGUK3"
      },
      "outputs": [],
      "source": [
        "x_train = x_train.reshape((-1, 28*28))\n",
        "x_test = x_test.reshape(-1, 28*28)"
      ]
    },
    {
      "cell_type": "code",
      "execution_count": 6,
      "metadata": {
        "colab": {
          "base_uri": "https://localhost:8080/"
        },
        "id": "iR-iQftmGkRq",
        "outputId": "6a6aa3e8-f446-49fe-dc43-2574e44a1705"
      },
      "outputs": [
        {
          "output_type": "stream",
          "name": "stdout",
          "text": [
            "(60000, 784)\n",
            "(60000,)\n",
            "(10000, 784)\n",
            "(10000,)\n"
          ]
        }
      ],
      "source": [
        "print(x_train.shape)\n",
        "print(y_train.shape)\n",
        "print(x_test.shape)\n",
        "print(y_test.shape)"
      ]
    },
    {
      "cell_type": "code",
      "execution_count": null,
      "metadata": {
        "colab": {
          "base_uri": "https://localhost:8080/"
        },
        "id": "guP86fLxrR7m",
        "outputId": "bd563f4b-7a8c-419f-946c-db5478a11736"
      },
      "outputs": [
        {
          "output_type": "execute_result",
          "data": {
            "text/plain": [
              "array([[0, 0, 0, ..., 0, 0, 0],\n",
              "       [0, 0, 0, ..., 0, 0, 0],\n",
              "       [0, 0, 0, ..., 0, 0, 0],\n",
              "       ...,\n",
              "       [0, 0, 0, ..., 0, 0, 0],\n",
              "       [0, 0, 0, ..., 0, 0, 0],\n",
              "       [0, 0, 0, ..., 0, 0, 0]], dtype=uint8)"
            ]
          },
          "metadata": {},
          "execution_count": 10
        }
      ],
      "source": [
        "x_train"
      ]
    },
    {
      "cell_type": "code",
      "execution_count": 7,
      "metadata": {
        "id": "7KqOmKkOGs4o"
      },
      "outputs": [],
      "source": [
        "x_train = (x_train/256)\n",
        "x_test = (x_test/256)"
      ]
    },
    {
      "cell_type": "code",
      "execution_count": null,
      "metadata": {
        "colab": {
          "base_uri": "https://localhost:8080/"
        },
        "id": "11UmtT-CGuvw",
        "outputId": "b89148c8-eb70-4758-b28b-9049fd08ccfe"
      },
      "outputs": [
        {
          "output_type": "execute_result",
          "data": {
            "text/plain": [
              "array([[0., 0., 0., ..., 0., 0., 0.],\n",
              "       [0., 0., 0., ..., 0., 0., 0.],\n",
              "       [0., 0., 0., ..., 0., 0., 0.],\n",
              "       ...,\n",
              "       [0., 0., 0., ..., 0., 0., 0.],\n",
              "       [0., 0., 0., ..., 0., 0., 0.],\n",
              "       [0., 0., 0., ..., 0., 0., 0.]])"
            ]
          },
          "metadata": {},
          "execution_count": 12
        }
      ],
      "source": [
        "x_train"
      ]
    },
    {
      "cell_type": "code",
      "execution_count": null,
      "metadata": {
        "id": "1iq1bZGn97iN"
      },
      "outputs": [],
      "source": [
        "def convert(imgf, labelf, outf, n):\n",
        "    f = open(imgf, \"rb\")\n",
        "    o = open(outf, \"w\")\n",
        "    l = open(labelf, \"rb\")\n",
        "\n",
        "    f.read(16)\n",
        "    l.read(8)\n",
        "    images = []\n",
        "\n",
        "    for i in range(n):\n",
        "        image = [ord(l.read(1))]\n",
        "        for j in range(28*28):\n",
        "            image.append(ord(f.read(1)))\n",
        "        images.append(image)\n",
        "\n",
        "    for image in images:\n",
        "        o.write(\",\".join(str(pix) for pix in image)+\"\\n\")\n",
        "    f.close()\n",
        "    o.close()\n",
        "    l.close()\n",
        "\n",
        "convert(\"/content/drive/MyDrive/ml2022/3c/x_train\", \"/content/drive/MyDrive/ml2022/3c/y_train\",\n",
        "        \"train.csv\", 60000)\n",
        "convert(\"/content/drive/MyDrive/ml2022/3c/x_test\", \"/content/drive/MyDrive/ml2022/3c/y_test\",\n",
        "        \"test.csv\", 10000)"
      ]
    },
    {
      "cell_type": "code",
      "execution_count": null,
      "metadata": {
        "colab": {
          "base_uri": "https://localhost:8080/",
          "height": 423
        },
        "id": "Cr341Q13_urH",
        "outputId": "8037722f-c153-49b3-8b31-22ebda5740d9"
      },
      "outputs": [
        {
          "output_type": "execute_result",
          "data": {
            "text/plain": [
              "       9  0  0.1  0.2  0.3  0.4  0.5  0.6  0.7  0.8  ...  0.341  0.342  0.343  \\\n",
              "0      0  0    0    0    0    0    1    0    0    0  ...    119    114    130   \n",
              "1      0  0    0    0    0    0    0    0    0    0  ...      0      0      1   \n",
              "2      3  0    0    0    0    0    0    0    0   33  ...      0      0      0   \n",
              "3      0  0    0    0    0    0    0    0    0    0  ...      0      0      0   \n",
              "4      2  0    0    0    0    1    0    0    0    0  ...      0      0      0   \n",
              "...   .. ..  ...  ...  ...  ...  ...  ...  ...  ...  ...    ...    ...    ...   \n",
              "59994  5  0    0    0    0    0    0    0    0    0  ...      0      0      0   \n",
              "59995  1  0    0    0    0    0    0    0    0    0  ...      0      0      0   \n",
              "59996  3  0    0    0    0    0    0    0    0    0  ...      0      0      0   \n",
              "59997  0  0    0    0    0    0    0    0    0    0  ...     66     54     50   \n",
              "59998  5  0    0    0    0    0    0    0    0    0  ...      0      0      0   \n",
              "\n",
              "       0.344  0.345  0.346  0.347  0.348  0.349  0.350  \n",
              "0         76      0      0      0      0      0      0  \n",
              "1          0      0      0      0      0      0      0  \n",
              "2          0      0      0      0      0      0      0  \n",
              "3          0      0      0      0      0      0      0  \n",
              "4          0    133    167     73      0      0      0  \n",
              "...      ...    ...    ...    ...    ...    ...    ...  \n",
              "59994      0      0      0      0      0      0      0  \n",
              "59995      0      0      0      0      0      0      0  \n",
              "59996      0      0      0      0      0      0      0  \n",
              "59997      5      0      1      0      0      0      0  \n",
              "59998      0      0      0      0      0      0      0  \n",
              "\n",
              "[59999 rows x 785 columns]"
            ],
            "text/html": [
              "\n",
              "  <div id=\"df-76dce6b0-9c3c-4184-b261-6bade2bcf778\">\n",
              "    <div class=\"colab-df-container\">\n",
              "      <div>\n",
              "<style scoped>\n",
              "    .dataframe tbody tr th:only-of-type {\n",
              "        vertical-align: middle;\n",
              "    }\n",
              "\n",
              "    .dataframe tbody tr th {\n",
              "        vertical-align: top;\n",
              "    }\n",
              "\n",
              "    .dataframe thead th {\n",
              "        text-align: right;\n",
              "    }\n",
              "</style>\n",
              "<table border=\"1\" class=\"dataframe\">\n",
              "  <thead>\n",
              "    <tr style=\"text-align: right;\">\n",
              "      <th></th>\n",
              "      <th>9</th>\n",
              "      <th>0</th>\n",
              "      <th>0.1</th>\n",
              "      <th>0.2</th>\n",
              "      <th>0.3</th>\n",
              "      <th>0.4</th>\n",
              "      <th>0.5</th>\n",
              "      <th>0.6</th>\n",
              "      <th>0.7</th>\n",
              "      <th>0.8</th>\n",
              "      <th>...</th>\n",
              "      <th>0.341</th>\n",
              "      <th>0.342</th>\n",
              "      <th>0.343</th>\n",
              "      <th>0.344</th>\n",
              "      <th>0.345</th>\n",
              "      <th>0.346</th>\n",
              "      <th>0.347</th>\n",
              "      <th>0.348</th>\n",
              "      <th>0.349</th>\n",
              "      <th>0.350</th>\n",
              "    </tr>\n",
              "  </thead>\n",
              "  <tbody>\n",
              "    <tr>\n",
              "      <th>0</th>\n",
              "      <td>0</td>\n",
              "      <td>0</td>\n",
              "      <td>0</td>\n",
              "      <td>0</td>\n",
              "      <td>0</td>\n",
              "      <td>0</td>\n",
              "      <td>1</td>\n",
              "      <td>0</td>\n",
              "      <td>0</td>\n",
              "      <td>0</td>\n",
              "      <td>...</td>\n",
              "      <td>119</td>\n",
              "      <td>114</td>\n",
              "      <td>130</td>\n",
              "      <td>76</td>\n",
              "      <td>0</td>\n",
              "      <td>0</td>\n",
              "      <td>0</td>\n",
              "      <td>0</td>\n",
              "      <td>0</td>\n",
              "      <td>0</td>\n",
              "    </tr>\n",
              "    <tr>\n",
              "      <th>1</th>\n",
              "      <td>0</td>\n",
              "      <td>0</td>\n",
              "      <td>0</td>\n",
              "      <td>0</td>\n",
              "      <td>0</td>\n",
              "      <td>0</td>\n",
              "      <td>0</td>\n",
              "      <td>0</td>\n",
              "      <td>0</td>\n",
              "      <td>0</td>\n",
              "      <td>...</td>\n",
              "      <td>0</td>\n",
              "      <td>0</td>\n",
              "      <td>1</td>\n",
              "      <td>0</td>\n",
              "      <td>0</td>\n",
              "      <td>0</td>\n",
              "      <td>0</td>\n",
              "      <td>0</td>\n",
              "      <td>0</td>\n",
              "      <td>0</td>\n",
              "    </tr>\n",
              "    <tr>\n",
              "      <th>2</th>\n",
              "      <td>3</td>\n",
              "      <td>0</td>\n",
              "      <td>0</td>\n",
              "      <td>0</td>\n",
              "      <td>0</td>\n",
              "      <td>0</td>\n",
              "      <td>0</td>\n",
              "      <td>0</td>\n",
              "      <td>0</td>\n",
              "      <td>33</td>\n",
              "      <td>...</td>\n",
              "      <td>0</td>\n",
              "      <td>0</td>\n",
              "      <td>0</td>\n",
              "      <td>0</td>\n",
              "      <td>0</td>\n",
              "      <td>0</td>\n",
              "      <td>0</td>\n",
              "      <td>0</td>\n",
              "      <td>0</td>\n",
              "      <td>0</td>\n",
              "    </tr>\n",
              "    <tr>\n",
              "      <th>3</th>\n",
              "      <td>0</td>\n",
              "      <td>0</td>\n",
              "      <td>0</td>\n",
              "      <td>0</td>\n",
              "      <td>0</td>\n",
              "      <td>0</td>\n",
              "      <td>0</td>\n",
              "      <td>0</td>\n",
              "      <td>0</td>\n",
              "      <td>0</td>\n",
              "      <td>...</td>\n",
              "      <td>0</td>\n",
              "      <td>0</td>\n",
              "      <td>0</td>\n",
              "      <td>0</td>\n",
              "      <td>0</td>\n",
              "      <td>0</td>\n",
              "      <td>0</td>\n",
              "      <td>0</td>\n",
              "      <td>0</td>\n",
              "      <td>0</td>\n",
              "    </tr>\n",
              "    <tr>\n",
              "      <th>4</th>\n",
              "      <td>2</td>\n",
              "      <td>0</td>\n",
              "      <td>0</td>\n",
              "      <td>0</td>\n",
              "      <td>0</td>\n",
              "      <td>1</td>\n",
              "      <td>0</td>\n",
              "      <td>0</td>\n",
              "      <td>0</td>\n",
              "      <td>0</td>\n",
              "      <td>...</td>\n",
              "      <td>0</td>\n",
              "      <td>0</td>\n",
              "      <td>0</td>\n",
              "      <td>0</td>\n",
              "      <td>133</td>\n",
              "      <td>167</td>\n",
              "      <td>73</td>\n",
              "      <td>0</td>\n",
              "      <td>0</td>\n",
              "      <td>0</td>\n",
              "    </tr>\n",
              "    <tr>\n",
              "      <th>...</th>\n",
              "      <td>...</td>\n",
              "      <td>...</td>\n",
              "      <td>...</td>\n",
              "      <td>...</td>\n",
              "      <td>...</td>\n",
              "      <td>...</td>\n",
              "      <td>...</td>\n",
              "      <td>...</td>\n",
              "      <td>...</td>\n",
              "      <td>...</td>\n",
              "      <td>...</td>\n",
              "      <td>...</td>\n",
              "      <td>...</td>\n",
              "      <td>...</td>\n",
              "      <td>...</td>\n",
              "      <td>...</td>\n",
              "      <td>...</td>\n",
              "      <td>...</td>\n",
              "      <td>...</td>\n",
              "      <td>...</td>\n",
              "      <td>...</td>\n",
              "    </tr>\n",
              "    <tr>\n",
              "      <th>59994</th>\n",
              "      <td>5</td>\n",
              "      <td>0</td>\n",
              "      <td>0</td>\n",
              "      <td>0</td>\n",
              "      <td>0</td>\n",
              "      <td>0</td>\n",
              "      <td>0</td>\n",
              "      <td>0</td>\n",
              "      <td>0</td>\n",
              "      <td>0</td>\n",
              "      <td>...</td>\n",
              "      <td>0</td>\n",
              "      <td>0</td>\n",
              "      <td>0</td>\n",
              "      <td>0</td>\n",
              "      <td>0</td>\n",
              "      <td>0</td>\n",
              "      <td>0</td>\n",
              "      <td>0</td>\n",
              "      <td>0</td>\n",
              "      <td>0</td>\n",
              "    </tr>\n",
              "    <tr>\n",
              "      <th>59995</th>\n",
              "      <td>1</td>\n",
              "      <td>0</td>\n",
              "      <td>0</td>\n",
              "      <td>0</td>\n",
              "      <td>0</td>\n",
              "      <td>0</td>\n",
              "      <td>0</td>\n",
              "      <td>0</td>\n",
              "      <td>0</td>\n",
              "      <td>0</td>\n",
              "      <td>...</td>\n",
              "      <td>0</td>\n",
              "      <td>0</td>\n",
              "      <td>0</td>\n",
              "      <td>0</td>\n",
              "      <td>0</td>\n",
              "      <td>0</td>\n",
              "      <td>0</td>\n",
              "      <td>0</td>\n",
              "      <td>0</td>\n",
              "      <td>0</td>\n",
              "    </tr>\n",
              "    <tr>\n",
              "      <th>59996</th>\n",
              "      <td>3</td>\n",
              "      <td>0</td>\n",
              "      <td>0</td>\n",
              "      <td>0</td>\n",
              "      <td>0</td>\n",
              "      <td>0</td>\n",
              "      <td>0</td>\n",
              "      <td>0</td>\n",
              "      <td>0</td>\n",
              "      <td>0</td>\n",
              "      <td>...</td>\n",
              "      <td>0</td>\n",
              "      <td>0</td>\n",
              "      <td>0</td>\n",
              "      <td>0</td>\n",
              "      <td>0</td>\n",
              "      <td>0</td>\n",
              "      <td>0</td>\n",
              "      <td>0</td>\n",
              "      <td>0</td>\n",
              "      <td>0</td>\n",
              "    </tr>\n",
              "    <tr>\n",
              "      <th>59997</th>\n",
              "      <td>0</td>\n",
              "      <td>0</td>\n",
              "      <td>0</td>\n",
              "      <td>0</td>\n",
              "      <td>0</td>\n",
              "      <td>0</td>\n",
              "      <td>0</td>\n",
              "      <td>0</td>\n",
              "      <td>0</td>\n",
              "      <td>0</td>\n",
              "      <td>...</td>\n",
              "      <td>66</td>\n",
              "      <td>54</td>\n",
              "      <td>50</td>\n",
              "      <td>5</td>\n",
              "      <td>0</td>\n",
              "      <td>1</td>\n",
              "      <td>0</td>\n",
              "      <td>0</td>\n",
              "      <td>0</td>\n",
              "      <td>0</td>\n",
              "    </tr>\n",
              "    <tr>\n",
              "      <th>59998</th>\n",
              "      <td>5</td>\n",
              "      <td>0</td>\n",
              "      <td>0</td>\n",
              "      <td>0</td>\n",
              "      <td>0</td>\n",
              "      <td>0</td>\n",
              "      <td>0</td>\n",
              "      <td>0</td>\n",
              "      <td>0</td>\n",
              "      <td>0</td>\n",
              "      <td>...</td>\n",
              "      <td>0</td>\n",
              "      <td>0</td>\n",
              "      <td>0</td>\n",
              "      <td>0</td>\n",
              "      <td>0</td>\n",
              "      <td>0</td>\n",
              "      <td>0</td>\n",
              "      <td>0</td>\n",
              "      <td>0</td>\n",
              "      <td>0</td>\n",
              "    </tr>\n",
              "  </tbody>\n",
              "</table>\n",
              "<p>59999 rows × 785 columns</p>\n",
              "</div>\n",
              "      <button class=\"colab-df-convert\" onclick=\"convertToInteractive('df-76dce6b0-9c3c-4184-b261-6bade2bcf778')\"\n",
              "              title=\"Convert this dataframe to an interactive table.\"\n",
              "              style=\"display:none;\">\n",
              "        \n",
              "  <svg xmlns=\"http://www.w3.org/2000/svg\" height=\"24px\"viewBox=\"0 0 24 24\"\n",
              "       width=\"24px\">\n",
              "    <path d=\"M0 0h24v24H0V0z\" fill=\"none\"/>\n",
              "    <path d=\"M18.56 5.44l.94 2.06.94-2.06 2.06-.94-2.06-.94-.94-2.06-.94 2.06-2.06.94zm-11 1L8.5 8.5l.94-2.06 2.06-.94-2.06-.94L8.5 2.5l-.94 2.06-2.06.94zm10 10l.94 2.06.94-2.06 2.06-.94-2.06-.94-.94-2.06-.94 2.06-2.06.94z\"/><path d=\"M17.41 7.96l-1.37-1.37c-.4-.4-.92-.59-1.43-.59-.52 0-1.04.2-1.43.59L10.3 9.45l-7.72 7.72c-.78.78-.78 2.05 0 2.83L4 21.41c.39.39.9.59 1.41.59.51 0 1.02-.2 1.41-.59l7.78-7.78 2.81-2.81c.8-.78.8-2.07 0-2.86zM5.41 20L4 18.59l7.72-7.72 1.47 1.35L5.41 20z\"/>\n",
              "  </svg>\n",
              "      </button>\n",
              "      \n",
              "  <style>\n",
              "    .colab-df-container {\n",
              "      display:flex;\n",
              "      flex-wrap:wrap;\n",
              "      gap: 12px;\n",
              "    }\n",
              "\n",
              "    .colab-df-convert {\n",
              "      background-color: #E8F0FE;\n",
              "      border: none;\n",
              "      border-radius: 50%;\n",
              "      cursor: pointer;\n",
              "      display: none;\n",
              "      fill: #1967D2;\n",
              "      height: 32px;\n",
              "      padding: 0 0 0 0;\n",
              "      width: 32px;\n",
              "    }\n",
              "\n",
              "    .colab-df-convert:hover {\n",
              "      background-color: #E2EBFA;\n",
              "      box-shadow: 0px 1px 2px rgba(60, 64, 67, 0.3), 0px 1px 3px 1px rgba(60, 64, 67, 0.15);\n",
              "      fill: #174EA6;\n",
              "    }\n",
              "\n",
              "    [theme=dark] .colab-df-convert {\n",
              "      background-color: #3B4455;\n",
              "      fill: #D2E3FC;\n",
              "    }\n",
              "\n",
              "    [theme=dark] .colab-df-convert:hover {\n",
              "      background-color: #434B5C;\n",
              "      box-shadow: 0px 1px 3px 1px rgba(0, 0, 0, 0.15);\n",
              "      filter: drop-shadow(0px 1px 2px rgba(0, 0, 0, 0.3));\n",
              "      fill: #FFFFFF;\n",
              "    }\n",
              "  </style>\n",
              "\n",
              "      <script>\n",
              "        const buttonEl =\n",
              "          document.querySelector('#df-76dce6b0-9c3c-4184-b261-6bade2bcf778 button.colab-df-convert');\n",
              "        buttonEl.style.display =\n",
              "          google.colab.kernel.accessAllowed ? 'block' : 'none';\n",
              "\n",
              "        async function convertToInteractive(key) {\n",
              "          const element = document.querySelector('#df-76dce6b0-9c3c-4184-b261-6bade2bcf778');\n",
              "          const dataTable =\n",
              "            await google.colab.kernel.invokeFunction('convertToInteractive',\n",
              "                                                     [key], {});\n",
              "          if (!dataTable) return;\n",
              "\n",
              "          const docLinkHtml = 'Like what you see? Visit the ' +\n",
              "            '<a target=\"_blank\" href=https://colab.research.google.com/notebooks/data_table.ipynb>data table notebook</a>'\n",
              "            + ' to learn more about interactive tables.';\n",
              "          element.innerHTML = '';\n",
              "          dataTable['output_type'] = 'display_data';\n",
              "          await google.colab.output.renderOutput(dataTable, element);\n",
              "          const docLink = document.createElement('div');\n",
              "          docLink.innerHTML = docLinkHtml;\n",
              "          element.appendChild(docLink);\n",
              "        }\n",
              "      </script>\n",
              "    </div>\n",
              "  </div>\n",
              "  "
            ]
          },
          "metadata": {},
          "execution_count": 14
        }
      ],
      "source": [
        "train_df = pd.read_csv(\"train.csv\",index_col=None)\n",
        "train_df"
      ]
    },
    {
      "cell_type": "code",
      "execution_count": null,
      "metadata": {
        "colab": {
          "base_uri": "https://localhost:8080/",
          "height": 423
        },
        "id": "U9NqhsRz_unr",
        "outputId": "502732e9-9724-40c4-81b3-b1d58040474a"
      },
      "outputs": [
        {
          "output_type": "execute_result",
          "data": {
            "text/plain": [
              "      9  0  0.1  0.2  0.3  0.4  0.5  0.6  0.7  0.8  ...  0.507  0.508  0.509  \\\n",
              "0     2  0    0    0    0    0    0    0    0    0  ...      2      3      0   \n",
              "1     1  0    0    0    0    0    0    0    0    1  ...    164     58      0   \n",
              "2     1  0    0    0    0    0    0    0    0    0  ...      1      0      0   \n",
              "3     6  0    0    0    2    0    1    1    0    0  ...     71     12      0   \n",
              "4     1  0    0    0    0    0    0    0    0    0  ...    145    129     62   \n",
              "...  .. ..  ...  ...  ...  ...  ...  ...  ...  ...  ...    ...    ...    ...   \n",
              "9994  9  0    0    0    0    0    0    0    0    0  ...      0      0      0   \n",
              "9995  1  0    0    0    0    0    0    0    0    0  ...      0      0      0   \n",
              "9996  8  0    0    0    0    0    0    0    0    0  ...     27      0      0   \n",
              "9997  1  0    0    0    0    0    0    0    0    0  ...      0      0      0   \n",
              "9998  5  0    0    0    0    0    0    0    0    0  ...      0      0      0   \n",
              "\n",
              "      0.510  0.511  0.512  0.513  0.514  0.515  0.516  \n",
              "0         3    174    189     67      0      0      0  \n",
              "1         0      0      0      0      0      0      0  \n",
              "2         0      0      0      0      0      0      0  \n",
              "3         0      0      0      0      0      0      0  \n",
              "4         0      0      0      0      0      0      0  \n",
              "...     ...    ...    ...    ...    ...    ...    ...  \n",
              "9994      0      0      0      0      0      0      0  \n",
              "9995      0      0      0      0      0      0      0  \n",
              "9996      0      0      0      0      0      0      0  \n",
              "9997      0      0      0      0      0      0      0  \n",
              "9998      0      0      0      0      0      0      0  \n",
              "\n",
              "[9999 rows x 785 columns]"
            ],
            "text/html": [
              "\n",
              "  <div id=\"df-758b5bda-61a3-40a2-acc2-118c55876da6\">\n",
              "    <div class=\"colab-df-container\">\n",
              "      <div>\n",
              "<style scoped>\n",
              "    .dataframe tbody tr th:only-of-type {\n",
              "        vertical-align: middle;\n",
              "    }\n",
              "\n",
              "    .dataframe tbody tr th {\n",
              "        vertical-align: top;\n",
              "    }\n",
              "\n",
              "    .dataframe thead th {\n",
              "        text-align: right;\n",
              "    }\n",
              "</style>\n",
              "<table border=\"1\" class=\"dataframe\">\n",
              "  <thead>\n",
              "    <tr style=\"text-align: right;\">\n",
              "      <th></th>\n",
              "      <th>9</th>\n",
              "      <th>0</th>\n",
              "      <th>0.1</th>\n",
              "      <th>0.2</th>\n",
              "      <th>0.3</th>\n",
              "      <th>0.4</th>\n",
              "      <th>0.5</th>\n",
              "      <th>0.6</th>\n",
              "      <th>0.7</th>\n",
              "      <th>0.8</th>\n",
              "      <th>...</th>\n",
              "      <th>0.507</th>\n",
              "      <th>0.508</th>\n",
              "      <th>0.509</th>\n",
              "      <th>0.510</th>\n",
              "      <th>0.511</th>\n",
              "      <th>0.512</th>\n",
              "      <th>0.513</th>\n",
              "      <th>0.514</th>\n",
              "      <th>0.515</th>\n",
              "      <th>0.516</th>\n",
              "    </tr>\n",
              "  </thead>\n",
              "  <tbody>\n",
              "    <tr>\n",
              "      <th>0</th>\n",
              "      <td>2</td>\n",
              "      <td>0</td>\n",
              "      <td>0</td>\n",
              "      <td>0</td>\n",
              "      <td>0</td>\n",
              "      <td>0</td>\n",
              "      <td>0</td>\n",
              "      <td>0</td>\n",
              "      <td>0</td>\n",
              "      <td>0</td>\n",
              "      <td>...</td>\n",
              "      <td>2</td>\n",
              "      <td>3</td>\n",
              "      <td>0</td>\n",
              "      <td>3</td>\n",
              "      <td>174</td>\n",
              "      <td>189</td>\n",
              "      <td>67</td>\n",
              "      <td>0</td>\n",
              "      <td>0</td>\n",
              "      <td>0</td>\n",
              "    </tr>\n",
              "    <tr>\n",
              "      <th>1</th>\n",
              "      <td>1</td>\n",
              "      <td>0</td>\n",
              "      <td>0</td>\n",
              "      <td>0</td>\n",
              "      <td>0</td>\n",
              "      <td>0</td>\n",
              "      <td>0</td>\n",
              "      <td>0</td>\n",
              "      <td>0</td>\n",
              "      <td>1</td>\n",
              "      <td>...</td>\n",
              "      <td>164</td>\n",
              "      <td>58</td>\n",
              "      <td>0</td>\n",
              "      <td>0</td>\n",
              "      <td>0</td>\n",
              "      <td>0</td>\n",
              "      <td>0</td>\n",
              "      <td>0</td>\n",
              "      <td>0</td>\n",
              "      <td>0</td>\n",
              "    </tr>\n",
              "    <tr>\n",
              "      <th>2</th>\n",
              "      <td>1</td>\n",
              "      <td>0</td>\n",
              "      <td>0</td>\n",
              "      <td>0</td>\n",
              "      <td>0</td>\n",
              "      <td>0</td>\n",
              "      <td>0</td>\n",
              "      <td>0</td>\n",
              "      <td>0</td>\n",
              "      <td>0</td>\n",
              "      <td>...</td>\n",
              "      <td>1</td>\n",
              "      <td>0</td>\n",
              "      <td>0</td>\n",
              "      <td>0</td>\n",
              "      <td>0</td>\n",
              "      <td>0</td>\n",
              "      <td>0</td>\n",
              "      <td>0</td>\n",
              "      <td>0</td>\n",
              "      <td>0</td>\n",
              "    </tr>\n",
              "    <tr>\n",
              "      <th>3</th>\n",
              "      <td>6</td>\n",
              "      <td>0</td>\n",
              "      <td>0</td>\n",
              "      <td>0</td>\n",
              "      <td>2</td>\n",
              "      <td>0</td>\n",
              "      <td>1</td>\n",
              "      <td>1</td>\n",
              "      <td>0</td>\n",
              "      <td>0</td>\n",
              "      <td>...</td>\n",
              "      <td>71</td>\n",
              "      <td>12</td>\n",
              "      <td>0</td>\n",
              "      <td>0</td>\n",
              "      <td>0</td>\n",
              "      <td>0</td>\n",
              "      <td>0</td>\n",
              "      <td>0</td>\n",
              "      <td>0</td>\n",
              "      <td>0</td>\n",
              "    </tr>\n",
              "    <tr>\n",
              "      <th>4</th>\n",
              "      <td>1</td>\n",
              "      <td>0</td>\n",
              "      <td>0</td>\n",
              "      <td>0</td>\n",
              "      <td>0</td>\n",
              "      <td>0</td>\n",
              "      <td>0</td>\n",
              "      <td>0</td>\n",
              "      <td>0</td>\n",
              "      <td>0</td>\n",
              "      <td>...</td>\n",
              "      <td>145</td>\n",
              "      <td>129</td>\n",
              "      <td>62</td>\n",
              "      <td>0</td>\n",
              "      <td>0</td>\n",
              "      <td>0</td>\n",
              "      <td>0</td>\n",
              "      <td>0</td>\n",
              "      <td>0</td>\n",
              "      <td>0</td>\n",
              "    </tr>\n",
              "    <tr>\n",
              "      <th>...</th>\n",
              "      <td>...</td>\n",
              "      <td>...</td>\n",
              "      <td>...</td>\n",
              "      <td>...</td>\n",
              "      <td>...</td>\n",
              "      <td>...</td>\n",
              "      <td>...</td>\n",
              "      <td>...</td>\n",
              "      <td>...</td>\n",
              "      <td>...</td>\n",
              "      <td>...</td>\n",
              "      <td>...</td>\n",
              "      <td>...</td>\n",
              "      <td>...</td>\n",
              "      <td>...</td>\n",
              "      <td>...</td>\n",
              "      <td>...</td>\n",
              "      <td>...</td>\n",
              "      <td>...</td>\n",
              "      <td>...</td>\n",
              "      <td>...</td>\n",
              "    </tr>\n",
              "    <tr>\n",
              "      <th>9994</th>\n",
              "      <td>9</td>\n",
              "      <td>0</td>\n",
              "      <td>0</td>\n",
              "      <td>0</td>\n",
              "      <td>0</td>\n",
              "      <td>0</td>\n",
              "      <td>0</td>\n",
              "      <td>0</td>\n",
              "      <td>0</td>\n",
              "      <td>0</td>\n",
              "      <td>...</td>\n",
              "      <td>0</td>\n",
              "      <td>0</td>\n",
              "      <td>0</td>\n",
              "      <td>0</td>\n",
              "      <td>0</td>\n",
              "      <td>0</td>\n",
              "      <td>0</td>\n",
              "      <td>0</td>\n",
              "      <td>0</td>\n",
              "      <td>0</td>\n",
              "    </tr>\n",
              "    <tr>\n",
              "      <th>9995</th>\n",
              "      <td>1</td>\n",
              "      <td>0</td>\n",
              "      <td>0</td>\n",
              "      <td>0</td>\n",
              "      <td>0</td>\n",
              "      <td>0</td>\n",
              "      <td>0</td>\n",
              "      <td>0</td>\n",
              "      <td>0</td>\n",
              "      <td>0</td>\n",
              "      <td>...</td>\n",
              "      <td>0</td>\n",
              "      <td>0</td>\n",
              "      <td>0</td>\n",
              "      <td>0</td>\n",
              "      <td>0</td>\n",
              "      <td>0</td>\n",
              "      <td>0</td>\n",
              "      <td>0</td>\n",
              "      <td>0</td>\n",
              "      <td>0</td>\n",
              "    </tr>\n",
              "    <tr>\n",
              "      <th>9996</th>\n",
              "      <td>8</td>\n",
              "      <td>0</td>\n",
              "      <td>0</td>\n",
              "      <td>0</td>\n",
              "      <td>0</td>\n",
              "      <td>0</td>\n",
              "      <td>0</td>\n",
              "      <td>0</td>\n",
              "      <td>0</td>\n",
              "      <td>0</td>\n",
              "      <td>...</td>\n",
              "      <td>27</td>\n",
              "      <td>0</td>\n",
              "      <td>0</td>\n",
              "      <td>0</td>\n",
              "      <td>0</td>\n",
              "      <td>0</td>\n",
              "      <td>0</td>\n",
              "      <td>0</td>\n",
              "      <td>0</td>\n",
              "      <td>0</td>\n",
              "    </tr>\n",
              "    <tr>\n",
              "      <th>9997</th>\n",
              "      <td>1</td>\n",
              "      <td>0</td>\n",
              "      <td>0</td>\n",
              "      <td>0</td>\n",
              "      <td>0</td>\n",
              "      <td>0</td>\n",
              "      <td>0</td>\n",
              "      <td>0</td>\n",
              "      <td>0</td>\n",
              "      <td>0</td>\n",
              "      <td>...</td>\n",
              "      <td>0</td>\n",
              "      <td>0</td>\n",
              "      <td>0</td>\n",
              "      <td>0</td>\n",
              "      <td>0</td>\n",
              "      <td>0</td>\n",
              "      <td>0</td>\n",
              "      <td>0</td>\n",
              "      <td>0</td>\n",
              "      <td>0</td>\n",
              "    </tr>\n",
              "    <tr>\n",
              "      <th>9998</th>\n",
              "      <td>5</td>\n",
              "      <td>0</td>\n",
              "      <td>0</td>\n",
              "      <td>0</td>\n",
              "      <td>0</td>\n",
              "      <td>0</td>\n",
              "      <td>0</td>\n",
              "      <td>0</td>\n",
              "      <td>0</td>\n",
              "      <td>0</td>\n",
              "      <td>...</td>\n",
              "      <td>0</td>\n",
              "      <td>0</td>\n",
              "      <td>0</td>\n",
              "      <td>0</td>\n",
              "      <td>0</td>\n",
              "      <td>0</td>\n",
              "      <td>0</td>\n",
              "      <td>0</td>\n",
              "      <td>0</td>\n",
              "      <td>0</td>\n",
              "    </tr>\n",
              "  </tbody>\n",
              "</table>\n",
              "<p>9999 rows × 785 columns</p>\n",
              "</div>\n",
              "      <button class=\"colab-df-convert\" onclick=\"convertToInteractive('df-758b5bda-61a3-40a2-acc2-118c55876da6')\"\n",
              "              title=\"Convert this dataframe to an interactive table.\"\n",
              "              style=\"display:none;\">\n",
              "        \n",
              "  <svg xmlns=\"http://www.w3.org/2000/svg\" height=\"24px\"viewBox=\"0 0 24 24\"\n",
              "       width=\"24px\">\n",
              "    <path d=\"M0 0h24v24H0V0z\" fill=\"none\"/>\n",
              "    <path d=\"M18.56 5.44l.94 2.06.94-2.06 2.06-.94-2.06-.94-.94-2.06-.94 2.06-2.06.94zm-11 1L8.5 8.5l.94-2.06 2.06-.94-2.06-.94L8.5 2.5l-.94 2.06-2.06.94zm10 10l.94 2.06.94-2.06 2.06-.94-2.06-.94-.94-2.06-.94 2.06-2.06.94z\"/><path d=\"M17.41 7.96l-1.37-1.37c-.4-.4-.92-.59-1.43-.59-.52 0-1.04.2-1.43.59L10.3 9.45l-7.72 7.72c-.78.78-.78 2.05 0 2.83L4 21.41c.39.39.9.59 1.41.59.51 0 1.02-.2 1.41-.59l7.78-7.78 2.81-2.81c.8-.78.8-2.07 0-2.86zM5.41 20L4 18.59l7.72-7.72 1.47 1.35L5.41 20z\"/>\n",
              "  </svg>\n",
              "      </button>\n",
              "      \n",
              "  <style>\n",
              "    .colab-df-container {\n",
              "      display:flex;\n",
              "      flex-wrap:wrap;\n",
              "      gap: 12px;\n",
              "    }\n",
              "\n",
              "    .colab-df-convert {\n",
              "      background-color: #E8F0FE;\n",
              "      border: none;\n",
              "      border-radius: 50%;\n",
              "      cursor: pointer;\n",
              "      display: none;\n",
              "      fill: #1967D2;\n",
              "      height: 32px;\n",
              "      padding: 0 0 0 0;\n",
              "      width: 32px;\n",
              "    }\n",
              "\n",
              "    .colab-df-convert:hover {\n",
              "      background-color: #E2EBFA;\n",
              "      box-shadow: 0px 1px 2px rgba(60, 64, 67, 0.3), 0px 1px 3px 1px rgba(60, 64, 67, 0.15);\n",
              "      fill: #174EA6;\n",
              "    }\n",
              "\n",
              "    [theme=dark] .colab-df-convert {\n",
              "      background-color: #3B4455;\n",
              "      fill: #D2E3FC;\n",
              "    }\n",
              "\n",
              "    [theme=dark] .colab-df-convert:hover {\n",
              "      background-color: #434B5C;\n",
              "      box-shadow: 0px 1px 3px 1px rgba(0, 0, 0, 0.15);\n",
              "      filter: drop-shadow(0px 1px 2px rgba(0, 0, 0, 0.3));\n",
              "      fill: #FFFFFF;\n",
              "    }\n",
              "  </style>\n",
              "\n",
              "      <script>\n",
              "        const buttonEl =\n",
              "          document.querySelector('#df-758b5bda-61a3-40a2-acc2-118c55876da6 button.colab-df-convert');\n",
              "        buttonEl.style.display =\n",
              "          google.colab.kernel.accessAllowed ? 'block' : 'none';\n",
              "\n",
              "        async function convertToInteractive(key) {\n",
              "          const element = document.querySelector('#df-758b5bda-61a3-40a2-acc2-118c55876da6');\n",
              "          const dataTable =\n",
              "            await google.colab.kernel.invokeFunction('convertToInteractive',\n",
              "                                                     [key], {});\n",
              "          if (!dataTable) return;\n",
              "\n",
              "          const docLinkHtml = 'Like what you see? Visit the ' +\n",
              "            '<a target=\"_blank\" href=https://colab.research.google.com/notebooks/data_table.ipynb>data table notebook</a>'\n",
              "            + ' to learn more about interactive tables.';\n",
              "          element.innerHTML = '';\n",
              "          dataTable['output_type'] = 'display_data';\n",
              "          await google.colab.output.renderOutput(dataTable, element);\n",
              "          const docLink = document.createElement('div');\n",
              "          docLink.innerHTML = docLinkHtml;\n",
              "          element.appendChild(docLink);\n",
              "        }\n",
              "      </script>\n",
              "    </div>\n",
              "  </div>\n",
              "  "
            ]
          },
          "metadata": {},
          "execution_count": 15
        }
      ],
      "source": [
        "test_df = pd.read_csv(\"test.csv\",index_col=None)\n",
        "test_df"
      ]
    },
    {
      "cell_type": "code",
      "execution_count": null,
      "metadata": {
        "colab": {
          "base_uri": "https://localhost:8080/"
        },
        "id": "gqro6leF_ulk",
        "outputId": "b4d9af41-b51a-4980-be44-e30fb45d77af"
      },
      "outputs": [
        {
          "output_type": "execute_result",
          "data": {
            "text/plain": [
              "0     59773\n",
              "1        70\n",
              "2        26\n",
              "3        11\n",
              "5         7\n",
              "      ...  \n",
              "43        1\n",
              "73        1\n",
              "74        1\n",
              "18        1\n",
              "49        1\n",
              "Name: 0.350, Length: 66, dtype: int64"
            ]
          },
          "metadata": {},
          "execution_count": 16
        }
      ],
      "source": [
        "train_df[train_df.columns[len(train_df.columns)-1]].value_counts()"
      ]
    },
    {
      "cell_type": "code",
      "execution_count": null,
      "metadata": {
        "id": "cfrNKjBwq4Wp"
      },
      "outputs": [],
      "source": [
        "from sklearn.model_selection import train_test_split"
      ]
    },
    {
      "cell_type": "code",
      "execution_count": null,
      "metadata": {
        "id": "HtCBuKvfq4TP"
      },
      "outputs": [],
      "source": [
        "x_train, x_val,y_train, y_val = train_test_split(x_train,y_train ,random_state=104,train_size=0.85, shuffle=True)"
      ]
    },
    {
      "cell_type": "code",
      "execution_count": null,
      "metadata": {
        "colab": {
          "base_uri": "https://localhost:8080/"
        },
        "id": "U2eFSG_Mq4Qr",
        "outputId": "961dbf76-e03d-45c0-d51d-7fae2b0fd56b"
      },
      "outputs": [
        {
          "output_type": "stream",
          "name": "stdout",
          "text": [
            "(51000, 784)\n",
            "(51000,)\n",
            "(9000, 784)\n",
            "(9000,)\n",
            "(10000, 784)\n",
            "(10000,)\n"
          ]
        }
      ],
      "source": [
        "print(x_train.shape)\n",
        "print(y_train.shape)\n",
        "print(x_val.shape)\n",
        "print(y_val.shape)\n",
        "print(x_test.shape)\n",
        "print(y_test.shape)"
      ]
    },
    {
      "cell_type": "code",
      "execution_count": null,
      "metadata": {
        "id": "ILxc_wpAJCAU"
      },
      "outputs": [],
      "source": [
        "from sklearn.linear_model import SGDClassifier\n",
        "from sklearn.metrics import log_loss"
      ]
    },
    {
      "cell_type": "code",
      "execution_count": null,
      "metadata": {
        "colab": {
          "base_uri": "https://localhost:8080/"
        },
        "id": "vWyvEdO5q4Ok",
        "outputId": "d64f67e3-01a6-4672-aadb-3fa3c7e8d910"
      },
      "outputs": [
        {
          "output_type": "stream",
          "name": "stdout",
          "text": [
            "SIGMOID\n",
            "Epoch : 0\n",
            "Training set loss:  1.0996231641702872\n",
            "Validation set loss:  0.6409259422328192\n",
            "Epoch : 1\n",
            "Training set loss:  0.5226891363170028\n",
            "Validation set loss:  0.46534119776123156\n",
            "Epoch : 2\n",
            "Training set loss:  0.4247467490253697\n",
            "Validation set loss:  0.411817832400428\n",
            "Epoch : 3\n",
            "Training set loss:  0.38319415853196714\n",
            "Validation set loss:  0.4001211732234049\n",
            "Epoch : 4\n",
            "Training set loss:  0.35818171228871815\n",
            "Validation set loss:  0.3650929972974632\n",
            "Epoch : 5\n",
            "Training set loss:  0.3389820625033885\n",
            "Validation set loss:  0.35700586860157607\n",
            "Epoch : 6\n",
            "Training set loss:  0.32381530990607216\n",
            "Validation set loss:  0.34693187899917793\n",
            "Epoch : 7\n",
            "Training set loss:  0.31026122626659164\n",
            "Validation set loss:  0.3444287100363064\n",
            "Epoch : 8\n",
            "Training set loss:  0.2992835451717744\n",
            "Validation set loss:  0.34384102088202995\n",
            "Epoch : 9\n",
            "Training set loss:  0.29018157624121554\n",
            "Validation set loss:  0.3375313406737408\n"
          ]
        }
      ],
      "source": [
        "#sigmoid\n",
        "print(\"SIGMOID\")\n",
        "m1 = MLPClassifier(activation = 'logistic', hidden_layer_sizes =(256, 32),n_iter_no_change=10,batch_size=128)\n",
        "t_losses = []\n",
        "v_losses = []\n",
        "for i in range(10):\n",
        "  print(\"Epoch :\",i)\n",
        "  m1.partial_fit(x_train, y_train, classes=y_train)\n",
        "  train_loss = m1.loss_\n",
        "  t_losses.append(train_loss)\n",
        "  print('Training set loss: ',train_loss)\n",
        "  y_pred = m1.predict_proba(x_val)\n",
        "  val_loss = log_loss(y_val,y_pred)\n",
        "  v_losses.append(val_loss)\n",
        "  print('Validation set loss: ',val_loss)"
      ]
    },
    {
      "cell_type": "code",
      "execution_count": null,
      "metadata": {
        "colab": {
          "base_uri": "https://localhost:8080/",
          "height": 295
        },
        "id": "Xb57OUcO8baU",
        "outputId": "eb202be5-df81-48f8-ded4-e4965e145ef9"
      },
      "outputs": [
        {
          "output_type": "display_data",
          "data": {
            "text/plain": [
              "<Figure size 432x288 with 1 Axes>"
            ],
            "image/png": "[encoded data removed]"
          },
          "metadata": {
            "needs_background": "light"
          }
        }
      ],
      "source": [
        "plt.plot( t_losses, label='Training Loss',color = 'c')\n",
        "plt.plot(v_losses, label='Validation Loss',color = 'r')\n",
        "plt.title('Training and Validation Loss')\n",
        "plt.xlabel('Epochs')\n",
        "plt.ylabel('Loss')\n",
        "plt.legend(loc='best')\n",
        "plt.show()"
      ]
    },
    {
      "cell_type": "code",
      "execution_count": null,
      "metadata": {
        "id": "ZXgEbEMoq4MM"
      },
      "outputs": [],
      "source": [
        "y_pred = m1.predict(x_val)"
      ]
    },
    {
      "cell_type": "code",
      "execution_count": null,
      "metadata": {
        "id": "k4yd0bX1uWpY"
      },
      "outputs": [],
      "source": [
        "from sklearn import metrics\n",
        "from sklearn.metrics import accuracy_score\n",
        "from sklearn.metrics import precision_score\n",
        "from sklearn.metrics import recall_score"
      ]
    },
    {
      "cell_type": "code",
      "execution_count": null,
      "metadata": {
        "id": "DrWPRs3Hq4J2"
      },
      "outputs": [],
      "source": [
        "# print(m1.score(x_val,y_val))\n",
        "# print('Validation set Accuracy:',accuracy_score(y_val, y_pred))\n",
        "# y_pred = m1.predict(x_test)\n",
        "# print(m1.score(x_test,y_test))\n",
        "# print('Test set Accuracy:',accuracy_score(y_test, y_pred))\n"
      ]
    },
    {
      "cell_type": "code",
      "execution_count": null,
      "metadata": {
        "id": "j5HmDcq9bVLt"
      },
      "outputs": [],
      "source": []
    },
    {
      "cell_type": "code",
      "execution_count": null,
      "metadata": {
        "colab": {
          "base_uri": "https://localhost:8080/"
        },
        "id": "j-erZlrneZ9B",
        "outputId": "1329a012-fdc6-4668-cd71-490b227483de"
      },
      "outputs": [
        {
          "output_type": "execute_result",
          "data": {
            "text/plain": [
              "(51000, 784)"
            ]
          },
          "metadata": {},
          "execution_count": 26
        }
      ],
      "source": [
        "x_train.shape"
      ]
    },
    {
      "cell_type": "code",
      "execution_count": null,
      "metadata": {
        "colab": {
          "base_uri": "https://localhost:8080/"
        },
        "id": "rTI3scCxwxb8",
        "outputId": "bc4642e8-d3f0-444c-bfd1-25abf5579737"
      },
      "outputs": [
        {
          "output_type": "stream",
          "name": "stdout",
          "text": [
            "RELU\n",
            "Epoch : 0\n",
            "Training set loss:  0.5843421171298556\n",
            "Validation set loss:  0.42859343077392636\n",
            "Epoch : 1\n",
            "Training set loss:  0.40080351427150235\n",
            "Validation set loss:  0.40998554366194384\n",
            "Epoch : 2\n",
            "Training set loss:  0.3583088677147706\n",
            "Validation set loss:  0.4042548806205707\n",
            "Epoch : 3\n",
            "Training set loss:  0.3297369995190107\n",
            "Validation set loss:  0.35406714538518697\n",
            "Epoch : 4\n",
            "Training set loss:  0.30699870038674315\n",
            "Validation set loss:  0.35055919059457546\n",
            "Epoch : 5\n",
            "Training set loss:  0.2886445846646554\n",
            "Validation set loss:  0.3529073883389339\n",
            "Epoch : 6\n",
            "Training set loss:  0.27684501128479544\n",
            "Validation set loss:  0.3485324673536264\n",
            "Epoch : 7\n",
            "Training set loss:  0.263385061242379\n",
            "Validation set loss:  0.32357030702335304\n",
            "Epoch : 8\n",
            "Training set loss:  0.25337387218166607\n",
            "Validation set loss:  0.31525369877883097\n",
            "Epoch : 9\n",
            "Training set loss:  0.23932379361226852\n",
            "Validation set loss:  0.3313082034939969\n"
          ]
        }
      ],
      "source": [
        "print(\"RELU\")\n",
        "m1 = MLPClassifier(activation = 'relu', hidden_layer_sizes =(256, 32),max_iter=10,batch_size = 128)\n",
        "t_losses = []\n",
        "v_losses = []\n",
        "for i in range(10):\n",
        "  print(\"Epoch :\",i)\n",
        "  m1.partial_fit(x_train, y_train, classes=y_train)\n",
        "  train_loss = m1.loss_\n",
        "  t_losses.append(train_loss)\n",
        "  print('Training set loss: ',train_loss)\n",
        "  y_pred = m1.predict_proba(x_val)\n",
        "  val_loss = log_loss(y_val,y_pred)\n",
        "  v_losses.append(val_loss)\n",
        "  print('Validation set loss: ',val_loss)"
      ]
    },
    {
      "cell_type": "code",
      "execution_count": null,
      "metadata": {
        "colab": {
          "base_uri": "https://localhost:8080/",
          "height": 295
        },
        "id": "xklS34TaxwWZ",
        "outputId": "e2c9b44e-cfd3-4871-ca43-eb91eda99c82"
      },
      "outputs": [
        {
          "output_type": "display_data",
          "data": {
            "text/plain": [
              "<Figure size 432x288 with 1 Axes>"
            ],
            "image/png": "[encoded data removed]"
          },
          "metadata": {
            "needs_background": "light"
          }
        }
      ],
      "source": [
        "plt.plot( t_losses, label='Training Loss',color = 'c')\n",
        "plt.plot(v_losses, label='Validation Loss',color = 'r')\n",
        "plt.title('Training and Validation Loss')\n",
        "plt.xlabel('Epochs')\n",
        "plt.ylabel('Loss')\n",
        "plt.legend(loc='best')\n",
        "plt.show()"
      ]
    },
    {
      "cell_type": "code",
      "execution_count": null,
      "metadata": {
        "colab": {
          "base_uri": "https://localhost:8080/"
        },
        "id": "ZpPQ4Kd0wxky",
        "outputId": "b1f177ad-05f6-4d0f-c2e1-17717a3b4b38"
      },
      "outputs": [
        {
          "output_type": "stream",
          "name": "stdout",
          "text": [
            "TANH\n",
            "Epoch : 0\n",
            "Training set loss:  0.5502463912772184\n",
            "Validation set loss:  0.4289012663837311\n",
            "Epoch : 1\n",
            "Training set loss:  0.3863277075223829\n",
            "Validation set loss:  0.38265464129294047\n",
            "Epoch : 2\n",
            "Training set loss:  0.3558656173781426\n",
            "Validation set loss:  0.3684691085606807\n",
            "Epoch : 3\n",
            "Training set loss:  0.32872502351382776\n",
            "Validation set loss:  0.35815817706610226\n",
            "Epoch : 4\n",
            "Training set loss:  0.3128178176131535\n",
            "Validation set loss:  0.3355207343102043\n",
            "Epoch : 5\n",
            "Training set loss:  0.2954226960741559\n",
            "Validation set loss:  0.35759227632438717\n",
            "Epoch : 6\n",
            "Training set loss:  0.2800375941044403\n",
            "Validation set loss:  0.3548914113339647\n",
            "Epoch : 7\n",
            "Training set loss:  0.2706239075500165\n",
            "Validation set loss:  0.32938588238934763\n",
            "Epoch : 8\n",
            "Training set loss:  0.25619732281685026\n",
            "Validation set loss:  0.3259800778352284\n",
            "Epoch : 9\n",
            "Training set loss:  0.24708187722165117\n",
            "Validation set loss:  0.3201910172898005\n"
          ]
        }
      ],
      "source": [
        "print(\"TANH\")\n",
        "m1 = MLPClassifier(activation = 'tanh', hidden_layer_sizes =(256, 32),n_iter_no_change=10,batch_size=128)\n",
        "t_losses = []\n",
        "v_losses = []\n",
        "for i in range(10):\n",
        "  print(\"Epoch :\",i)\n",
        "  m1.partial_fit(x_train, y_train, classes=y_train)\n",
        "  train_loss = m1.loss_\n",
        "  t_losses.append(train_loss)\n",
        "  print('Training set loss: ',train_loss)\n",
        "  y_pred = m1.predict_proba(x_val)\n",
        "  val_loss = log_loss(y_val,y_pred)\n",
        "  v_losses.append(val_loss)\n",
        "  print('Validation set loss: ',val_loss)"
      ]
    },
    {
      "cell_type": "code",
      "execution_count": null,
      "metadata": {
        "colab": {
          "base_uri": "https://localhost:8080/",
          "height": 295
        },
        "id": "GRJLYz8_wxeH",
        "outputId": "ab968fbe-ecc4-446e-bd24-17883f244eb4"
      },
      "outputs": [
        {
          "output_type": "display_data",
          "data": {
            "text/plain": [
              "<Figure size 432x288 with 1 Axes>"
            ],
            "image/png": "[encoded data removed]"
          },
          "metadata": {
            "needs_background": "light"
          }
        }
      ],
      "source": [
        "epochs = range(1,99)\n",
        " \n",
        "# Plot and label the training and validation loss values\n",
        "plt.plot( t_losses, label='Training Loss')\n",
        "plt.plot(v_losses, label='Validation Loss')\n",
        " \n",
        "# Add in a title and axes labels\n",
        "plt.title('Training and Validation Loss')\n",
        "plt.xlabel('Epochs')\n",
        "plt.ylabel('Loss')\n",
        " \n",
        "# Set the tick locations\n",
        "# plt.xticks(arange(0, 299, 2))\n",
        " \n",
        "# Display the plot\n",
        "plt.legend(loc='best')\n",
        "plt.show()"
      ]
    },
    {
      "cell_type": "code",
      "execution_count": null,
      "metadata": {
        "id": "N8g0RmdGwxZr"
      },
      "outputs": [],
      "source": []
    },
    {
      "cell_type": "code",
      "execution_count": null,
      "metadata": {
        "colab": {
          "base_uri": "https://localhost:8080/"
        },
        "id": "GiKaKuHxwxXh",
        "outputId": "177ad354-f597-4938-fd7a-9a66f97e07e4"
      },
      "outputs": [
        {
          "output_type": "stream",
          "name": "stdout",
          "text": [
            "LINEAR\n",
            "Epoch : 0\n",
            "Training set loss:  0.5793446987994113\n",
            "Validation set loss:  0.46648143368651834\n",
            "Epoch : 1\n",
            "Training set loss:  0.46181618856103795\n",
            "Validation set loss:  0.4571156451175764\n",
            "Epoch : 2\n",
            "Training set loss:  0.44122452290687636\n",
            "Validation set loss:  0.47121809311234725\n",
            "Epoch : 3\n",
            "Training set loss:  0.4304437498785005\n",
            "Validation set loss:  0.4480047142339027\n",
            "Epoch : 4\n",
            "Training set loss:  0.42009069490507367\n",
            "Validation set loss:  0.5031786829973128\n",
            "Epoch : 5\n",
            "Training set loss:  0.4178369017718339\n",
            "Validation set loss:  0.4594306551741353\n",
            "Epoch : 6\n",
            "Training set loss:  0.41284235273806547\n",
            "Validation set loss:  0.4450872536227063\n",
            "Epoch : 7\n",
            "Training set loss:  0.41130825266160653\n",
            "Validation set loss:  0.45337573026296013\n",
            "Epoch : 8\n",
            "Training set loss:  0.40648355023190086\n",
            "Validation set loss:  0.4587192713536823\n",
            "Epoch : 9\n",
            "Training set loss:  0.40315749720527067\n",
            "Validation set loss:  0.4360833958221635\n"
          ]
        }
      ],
      "source": [
        "print(\"LINEAR\")\n",
        "m1 = MLPClassifier(activation = 'identity', hidden_layer_sizes =(256, 32),n_iter_no_change=10,batch_size=128)\n",
        "t_losses = []\n",
        "v_losses = []\n",
        "for i in range(10):\n",
        "  print(\"Epoch :\",i)\n",
        "  m1.partial_fit(x_train, y_train, classes=y_train)\n",
        "  train_loss = m1.loss_\n",
        "  t_losses.append(train_loss)\n",
        "  print('Training set loss: ',train_loss)\n",
        "  y_pred = m1.predict_proba(x_val)\n",
        "  val_loss = log_loss(y_val,y_pred)\n",
        "  v_losses.append(val_loss)\n",
        "  print('Validation set loss: ',val_loss)"
      ]
    },
    {
      "cell_type": "code",
      "execution_count": null,
      "metadata": {
        "colab": {
          "base_uri": "https://localhost:8080/",
          "height": 295
        },
        "id": "jdN7ejX4wxVG",
        "outputId": "199ebcce-57f6-4dc6-d54b-d654d084ac45"
      },
      "outputs": [
        {
          "output_type": "display_data",
          "data": {
            "text/plain": [
              "<Figure size 432x288 with 1 Axes>"
            ],
            "image/png": "[encoded data removed]"
          },
          "metadata": {
            "needs_background": "light"
          }
        }
      ],
      "source": [
        "\n",
        "plt.plot( t_losses, label='Training Loss')\n",
        "plt.plot(v_losses, label='Validation Loss')\n",
        "plt.title('Training and Validation Loss')\n",
        "plt.xlabel('Epochs')\n",
        "plt.ylabel('Loss')\n",
        "plt.legend(loc='best')\n",
        "plt.show()"
      ]
    },
    {
      "cell_type": "code",
      "execution_count": null,
      "metadata": {
        "colab": {
          "base_uri": "https://localhost:8080/"
        },
        "id": "WxcKtccdw9kx",
        "outputId": "6e6c55be-f28c-4e0a-9fc6-11df4d50dca9"
      },
      "outputs": [
        {
          "output_type": "stream",
          "name": "stdout",
          "text": [
            "SIGMOID\n",
            "Epoch : 0\n",
            "Training set loss:  1.0949631636376291\n",
            "Validation set loss:  0.6215384077004855\n",
            "Epoch : 1\n",
            "Training set loss:  0.5233153434654239\n",
            "Validation set loss:  0.46227582931346034\n",
            "Epoch : 2\n",
            "Training set loss:  0.4300954811834484\n",
            "Validation set loss:  0.4191631197747506\n",
            "Epoch : 3\n",
            "Training set loss:  0.3878211143951829\n",
            "Validation set loss:  0.3871745095643299\n",
            "Epoch : 4\n",
            "Training set loss:  0.3623225293995475\n",
            "Validation set loss:  0.37309450643637254\n",
            "Epoch : 5\n",
            "Training set loss:  0.34236681152300874\n",
            "Validation set loss:  0.3595996589133187\n",
            "Epoch : 6\n",
            "Training set loss:  0.32656456992636\n",
            "Validation set loss:  0.3504636750516439\n",
            "Epoch : 7\n",
            "Training set loss:  0.3125368872402963\n",
            "Validation set loss:  0.34316654032795174\n",
            "Epoch : 8\n",
            "Training set loss:  0.30304042010831994\n",
            "Validation set loss:  0.33268649817375956\n",
            "Epoch : 9\n",
            "Training set loss:  0.2912027637088236\n",
            "Validation set loss:  0.33117452482344584\n"
          ]
        }
      ],
      "source": [
        "print(\"SIGMOID\")\n",
        "m1 = MLPClassifier(activation = 'logistic', hidden_layer_sizes =(256, 32),n_iter_no_change=10,batch_size=128,learning_rate_init=0.001)\n",
        "t_losses = []\n",
        "v_losses = []\n",
        "for i in range(10):\n",
        "  print(\"Epoch :\",i)\n",
        "  m1.partial_fit(x_train, y_train, classes=y_train)\n",
        "  train_loss = m1.loss_\n",
        "  t_losses.append(train_loss)\n",
        "  print('Training set loss: ',train_loss)\n",
        "  y_pred = m1.predict_proba(x_val)\n",
        "  val_loss = log_loss(y_val,y_pred)\n",
        "  v_losses.append(val_loss)\n",
        "  print('Validation set loss: ',val_loss)"
      ]
    },
    {
      "cell_type": "code",
      "execution_count": null,
      "metadata": {
        "colab": {
          "base_uri": "https://localhost:8080/",
          "height": 295
        },
        "id": "aNkrGlEL68Mm",
        "outputId": "4d3edc2a-9f38-4063-9ae1-d9452763d868"
      },
      "outputs": [
        {
          "output_type": "display_data",
          "data": {
            "text/plain": [
              "<Figure size 432x288 with 1 Axes>"
            ],
            "image/png": "[encoded data removed]"
          },
          "metadata": {
            "needs_background": "light"
          }
        }
      ],
      "source": [
        "plt.plot( t_losses, label='Training Loss',color = 'c')\n",
        "plt.plot(v_losses, label='Validation Loss',color = 'r')\n",
        "plt.title('Training and Validation Loss')\n",
        "plt.xlabel('Epochs')\n",
        "plt.ylabel('Loss')\n",
        "plt.legend(loc='best')\n",
        "plt.show()"
      ]
    },
    {
      "cell_type": "code",
      "execution_count": null,
      "metadata": {
        "colab": {
          "base_uri": "https://localhost:8080/"
        },
        "id": "0PKOOBMEw_ex",
        "outputId": "de1bbe4a-3623-470f-dece-4715aa42bc92"
      },
      "outputs": [
        {
          "output_type": "stream",
          "name": "stdout",
          "text": [
            "SIGMOID\n",
            "Epoch : 0\n",
            "Training set loss:  2.3814680958174357\n",
            "Validation set loss:  2.380723847497942\n",
            "Epoch : 1\n",
            "Training set loss:  2.373580456703037\n",
            "Validation set loss:  2.3526051068700253\n",
            "Epoch : 2\n",
            "Training set loss:  2.418386454355064\n",
            "Validation set loss:  2.3851247446140165\n",
            "Epoch : 3\n",
            "Training set loss:  2.414480099948081\n",
            "Validation set loss:  2.480861844459931\n",
            "Epoch : 4\n",
            "Training set loss:  2.391323228367164\n",
            "Validation set loss:  2.363030362803804\n",
            "Epoch : 5\n",
            "Training set loss:  2.4336759254226075\n",
            "Validation set loss:  2.346156192640356\n",
            "Epoch : 6\n",
            "Training set loss:  2.4074837090102936\n",
            "Validation set loss:  2.4409019610391414\n",
            "Epoch : 7\n",
            "Training set loss:  2.4742743508589644\n",
            "Validation set loss:  2.416325766640188\n",
            "Epoch : 8\n",
            "Training set loss:  2.4473474010982477\n",
            "Validation set loss:  2.349429234843113\n",
            "Epoch : 9\n",
            "Training set loss:  2.416737944986007\n",
            "Validation set loss:  2.405493546294222\n"
          ]
        }
      ],
      "source": [
        "print(\"SIGMOID\")\n",
        "m1 = MLPClassifier(activation = 'logistic', hidden_layer_sizes =(256, 32),n_iter_no_change=10,batch_size=128,learning_rate_init=0.1)\n",
        "t_losses = []\n",
        "v_losses = []\n",
        "for i in range(10):\n",
        "  print(\"Epoch :\",i)\n",
        "  m1.partial_fit(x_train, y_train, classes=y_train)\n",
        "  train_loss = m1.loss_\n",
        "  t_losses.append(train_loss)\n",
        "  print('Training set loss: ',train_loss)\n",
        "  y_pred = m1.predict_proba(x_val)\n",
        "  val_loss = log_loss(y_val,y_pred)\n",
        "  v_losses.append(val_loss)\n",
        "  print('Validation set loss: ',val_loss)"
      ]
    },
    {
      "cell_type": "code",
      "execution_count": null,
      "metadata": {
        "colab": {
          "base_uri": "https://localhost:8080/",
          "height": 295
        },
        "id": "zD-n7b8Q7p2r",
        "outputId": "eb2365f6-68ae-4d8e-edff-eaa0f4ccebb7"
      },
      "outputs": [
        {
          "output_type": "display_data",
          "data": {
            "text/plain": [
              "<Figure size 432x288 with 1 Axes>"
            ],
            "image/png": "[encoded data removed]"
          },
          "metadata": {
            "needs_background": "light"
          }
        }
      ],
      "source": [
        "plt.plot( t_losses, label='Training Loss',color = 'c')\n",
        "plt.plot(v_losses, label='Validation Loss',color = 'r')\n",
        "plt.title('Training and Validation Loss')\n",
        "plt.xlabel('Epochs')\n",
        "plt.ylabel('Loss')\n",
        "plt.legend(loc='best')\n",
        "plt.show()"
      ]
    },
    {
      "cell_type": "code",
      "execution_count": null,
      "metadata": {
        "colab": {
          "base_uri": "https://localhost:8080/"
        },
        "id": "aoenLgdmw_bY",
        "outputId": "6f3561c7-c75d-4103-d79a-fd7c171553db"
      },
      "outputs": [
        {
          "output_type": "stream",
          "name": "stdout",
          "text": [
            "SIGMOID\n",
            "Epoch : 0\n",
            "Training set loss:  0.5969685590667337\n",
            "Validation set loss:  0.522747011359211\n",
            "Epoch : 1\n",
            "Training set loss:  0.4230645662464453\n",
            "Validation set loss:  0.42618763423471484\n",
            "Epoch : 2\n",
            "Training set loss:  0.3946380579928466\n",
            "Validation set loss:  0.38619883607091965\n",
            "Epoch : 3\n",
            "Training set loss:  0.3811631337613465\n",
            "Validation set loss:  0.3881840148115909\n",
            "Epoch : 4\n",
            "Training set loss:  0.3771713619406949\n",
            "Validation set loss:  0.4085913528603178\n",
            "Epoch : 5\n",
            "Training set loss:  0.36016736558526363\n",
            "Validation set loss:  0.3787386243419802\n",
            "Epoch : 6\n",
            "Training set loss:  0.35261428836663194\n",
            "Validation set loss:  0.4027816272050411\n",
            "Epoch : 7\n",
            "Training set loss:  0.34782923293027274\n",
            "Validation set loss:  0.3617308843589042\n",
            "Epoch : 8\n",
            "Training set loss:  0.3426531094345627\n",
            "Validation set loss:  0.3705085808639221\n",
            "Epoch : 9\n",
            "Training set loss:  0.3437412072268471\n",
            "Validation set loss:  0.37811767861017537\n",
            "Epoch : 10\n",
            "Training set loss:  0.341263523917363\n",
            "Validation set loss:  0.3807721030120346\n",
            "Epoch : 11\n",
            "Training set loss:  0.3421055069681092\n",
            "Validation set loss:  0.3660859946434492\n",
            "Epoch : 12\n",
            "Training set loss:  0.3262885014770009\n",
            "Validation set loss:  0.3994520371105729\n",
            "Epoch : 13\n",
            "Training set loss:  0.3265791328501806\n",
            "Validation set loss:  0.3587478170088624\n",
            "Epoch : 14\n",
            "Training set loss:  0.32921220291544756\n",
            "Validation set loss:  0.3553484546132572\n",
            "Epoch : 15\n",
            "Training set loss:  0.32971017778202555\n",
            "Validation set loss:  0.3617467837590935\n",
            "Epoch : 16\n",
            "Training set loss:  0.32192529351431537\n",
            "Validation set loss:  0.374107307631068\n",
            "Epoch : 17\n",
            "Training set loss:  0.32600338381227\n",
            "Validation set loss:  0.35993586512266046\n",
            "Epoch : 18\n",
            "Training set loss:  0.320805501188487\n",
            "Validation set loss:  0.3547815975111389\n",
            "Epoch : 19\n",
            "Training set loss:  0.3200385759685722\n",
            "Validation set loss:  0.36123565927315493\n",
            "Epoch : 20\n",
            "Training set loss:  0.31392256708339955\n",
            "Validation set loss:  0.3686410897404945\n",
            "Epoch : 21\n",
            "Training set loss:  0.32050105613595004\n",
            "Validation set loss:  0.38965203405948573\n",
            "Epoch : 22\n",
            "Training set loss:  0.31998855579214563\n",
            "Validation set loss:  0.36363178106834565\n",
            "Epoch : 23\n",
            "Training set loss:  0.3202978418511967\n",
            "Validation set loss:  0.3712857999147487\n",
            "Epoch : 24\n",
            "Training set loss:  0.31792974719173006\n",
            "Validation set loss:  0.4043091247720334\n",
            "Epoch : 25\n",
            "Training set loss:  0.32084858632074453\n",
            "Validation set loss:  0.37245031059777894\n",
            "Epoch : 26\n",
            "Training set loss:  0.3156596967036503\n",
            "Validation set loss:  0.35912919750272393\n",
            "Epoch : 27\n",
            "Training set loss:  0.31757069821307976\n",
            "Validation set loss:  0.3933305966421274\n",
            "Epoch : 28\n",
            "Training set loss:  0.3171765430765155\n",
            "Validation set loss:  0.3819892558796267\n",
            "Epoch : 29\n",
            "Training set loss:  0.3140459202574317\n",
            "Validation set loss:  0.3634218986030644\n",
            "Epoch : 30\n",
            "Training set loss:  0.31621859037158195\n",
            "Validation set loss:  0.3688758584457848\n",
            "Epoch : 31\n",
            "Training set loss:  0.31217896862163474\n",
            "Validation set loss:  0.4089835262877073\n",
            "Epoch : 32\n",
            "Training set loss:  0.31377252559709645\n",
            "Validation set loss:  0.3704615673686942\n",
            "Epoch : 33\n",
            "Training set loss:  0.31421933424359216\n",
            "Validation set loss:  0.3902144140869951\n",
            "Epoch : 34\n",
            "Training set loss:  0.3201824033777588\n",
            "Validation set loss:  0.3668065659386077\n",
            "Epoch : 35\n",
            "Training set loss:  0.30603209003727344\n",
            "Validation set loss:  0.3675762528711512\n",
            "Epoch : 36\n",
            "Training set loss:  0.3077460768000257\n",
            "Validation set loss:  0.37009942295103637\n",
            "Epoch : 37\n",
            "Training set loss:  0.30650283412732005\n",
            "Validation set loss:  0.37453451252660913\n",
            "Epoch : 38\n",
            "Training set loss:  0.30850407516528455\n",
            "Validation set loss:  0.38519256253186773\n",
            "Epoch : 39\n",
            "Training set loss:  0.30726084690862276\n",
            "Validation set loss:  0.3763504270482011\n",
            "Epoch : 40\n",
            "Training set loss:  0.2979729161961413\n",
            "Validation set loss:  0.3567327088063664\n",
            "Epoch : 41\n",
            "Training set loss:  0.3067282238932593\n",
            "Validation set loss:  0.37184827580549995\n",
            "Epoch : 42\n",
            "Training set loss:  0.30561339961882594\n",
            "Validation set loss:  0.36934463205459334\n",
            "Epoch : 43\n",
            "Training set loss:  0.3017882049466521\n",
            "Validation set loss:  0.36793053880829807\n",
            "Epoch : 44\n",
            "Training set loss:  0.30470763145759383\n",
            "Validation set loss:  0.3754891686284554\n",
            "Epoch : 45\n",
            "Training set loss:  0.30860018196729005\n",
            "Validation set loss:  0.376445067945432\n",
            "Epoch : 46\n",
            "Training set loss:  0.3022589289502367\n",
            "Validation set loss:  0.3893796324802196\n",
            "Epoch : 47\n",
            "Training set loss:  0.3059792720529074\n",
            "Validation set loss:  0.38276287950857324\n",
            "Epoch : 48\n",
            "Training set loss:  0.30339601405337924\n",
            "Validation set loss:  0.39416075345338714\n",
            "Epoch : 49\n",
            "Training set loss:  0.3043347132270137\n",
            "Validation set loss:  0.3855631914981964\n",
            "Epoch : 50\n",
            "Training set loss:  0.2991130176145856\n",
            "Validation set loss:  0.37408287396778106\n",
            "Epoch : 51\n",
            "Training set loss:  0.2959599099557101\n",
            "Validation set loss:  0.3931914298311725\n",
            "Epoch : 52\n",
            "Training set loss:  0.2939656542941702\n",
            "Validation set loss:  0.3927434197113266\n",
            "Epoch : 53\n",
            "Training set loss:  0.2991024200021388\n",
            "Validation set loss:  0.38571203221730826\n",
            "Epoch : 54\n",
            "Training set loss:  0.29710240016081974\n",
            "Validation set loss:  0.3874906466448764\n",
            "Epoch : 55\n",
            "Training set loss:  0.30120579881917886\n",
            "Validation set loss:  0.38874764998101036\n",
            "Epoch : 56\n",
            "Training set loss:  0.28995283196581056\n",
            "Validation set loss:  0.37832833150230794\n",
            "Epoch : 57\n",
            "Training set loss:  0.2914481347105111\n",
            "Validation set loss:  0.3977286795636784\n",
            "Epoch : 58\n",
            "Training set loss:  0.2974222869192878\n",
            "Validation set loss:  0.37896563761188506\n",
            "Epoch : 59\n",
            "Training set loss:  0.2895693578675728\n",
            "Validation set loss:  0.38466404741404897\n",
            "Epoch : 60\n",
            "Training set loss:  0.2947587500645825\n",
            "Validation set loss:  0.37667688280220585\n",
            "Epoch : 61\n",
            "Training set loss:  0.28886231170342996\n",
            "Validation set loss:  0.381247528843199\n",
            "Epoch : 62\n",
            "Training set loss:  0.2890074588799852\n",
            "Validation set loss:  0.3707964186015947\n",
            "Epoch : 63\n",
            "Training set loss:  0.28981047297717877\n",
            "Validation set loss:  0.3917977659255924\n",
            "Epoch : 64\n",
            "Training set loss:  0.29208832227437426\n",
            "Validation set loss:  0.3968145709351817\n",
            "Epoch : 65\n",
            "Training set loss:  0.293425148865586\n",
            "Validation set loss:  0.40271095970407333\n",
            "Epoch : 66\n",
            "Training set loss:  0.3007885543324583\n",
            "Validation set loss:  0.3776020201664184\n",
            "Epoch : 67\n",
            "Training set loss:  0.29425641181601697\n",
            "Validation set loss:  0.39477634624947777\n",
            "Epoch : 68\n",
            "Training set loss:  0.2876308503063016\n",
            "Validation set loss:  0.3881373780661171\n",
            "Epoch : 69\n",
            "Training set loss:  0.2962926602425504\n",
            "Validation set loss:  0.39894270951239424\n",
            "Epoch : 70\n",
            "Training set loss:  0.29623629409572977\n",
            "Validation set loss:  0.400591493014639\n",
            "Epoch : 71\n",
            "Training set loss:  0.2982374781855787\n",
            "Validation set loss:  0.36890886058347616\n",
            "Epoch : 72\n",
            "Training set loss:  0.28985582705714286\n",
            "Validation set loss:  0.39892262819702795\n",
            "Epoch : 73\n",
            "Training set loss:  0.28955402881277387\n",
            "Validation set loss:  0.3808431063718798\n",
            "Epoch : 74\n",
            "Training set loss:  0.2873858746030941\n",
            "Validation set loss:  0.37177080928686085\n",
            "Epoch : 75\n",
            "Training set loss:  0.2876841344915956\n",
            "Validation set loss:  0.38059694201707595\n",
            "Epoch : 76\n",
            "Training set loss:  0.2963215742492545\n",
            "Validation set loss:  0.39786229007047463\n",
            "Epoch : 77\n",
            "Training set loss:  0.282951260592156\n",
            "Validation set loss:  0.4027693143310463\n",
            "Epoch : 78\n",
            "Training set loss:  0.29160866014059433\n",
            "Validation set loss:  0.3854955969177865\n",
            "Epoch : 79\n",
            "Training set loss:  0.28750371091331894\n",
            "Validation set loss:  0.3937640781080812\n",
            "Epoch : 80\n",
            "Training set loss:  0.2807055154757727\n",
            "Validation set loss:  0.373443053005517\n",
            "Epoch : 81\n",
            "Training set loss:  0.29290386403772106\n",
            "Validation set loss:  0.3878897747022991\n",
            "Epoch : 82\n",
            "Training set loss:  0.2870289419474942\n",
            "Validation set loss:  0.39296251885334654\n",
            "Epoch : 83\n",
            "Training set loss:  0.2821000850987173\n",
            "Validation set loss:  0.3985691229144914\n",
            "Epoch : 84\n",
            "Training set loss:  0.2809658569164368\n",
            "Validation set loss:  0.3943071015625842\n",
            "Epoch : 85\n",
            "Training set loss:  0.29073832862653587\n",
            "Validation set loss:  0.39559469804171576\n",
            "Epoch : 86\n",
            "Training set loss:  0.29084764817299563\n",
            "Validation set loss:  0.403486361647511\n",
            "Epoch : 87\n",
            "Training set loss:  0.2839853581195572\n",
            "Validation set loss:  0.41564105779934424\n",
            "Epoch : 88\n",
            "Training set loss:  0.2803463603186237\n",
            "Validation set loss:  0.3953509735208489\n",
            "Epoch : 89\n",
            "Training set loss:  0.28129204052989515\n",
            "Validation set loss:  0.40460925629086825\n",
            "Epoch : 90\n",
            "Training set loss:  0.29533237462373196\n",
            "Validation set loss:  0.39466457700180624\n",
            "Epoch : 91\n",
            "Training set loss:  0.2958320486779814\n",
            "Validation set loss:  0.40314675934440175\n",
            "Epoch : 92\n",
            "Training set loss:  0.2898253509955671\n",
            "Validation set loss:  0.4017192795424466\n",
            "Epoch : 93\n",
            "Training set loss:  0.2836619647430034\n",
            "Validation set loss:  0.41080945278106157\n",
            "Epoch : 94\n",
            "Training set loss:  0.2798125482907099\n",
            "Validation set loss:  0.3992642267636786\n",
            "Epoch : 95\n",
            "Training set loss:  0.2823088133288552\n",
            "Validation set loss:  0.39334874616011856\n",
            "Epoch : 96\n",
            "Training set loss:  0.27955481718651604\n",
            "Validation set loss:  0.40706378932736414\n",
            "Epoch : 97\n",
            "Training set loss:  0.28002458129234464\n",
            "Validation set loss:  0.4087005503588921\n",
            "Epoch : 98\n",
            "Training set loss:  0.2818679092711743\n",
            "Validation set loss:  0.41057956027926884\n",
            "Epoch : 99\n",
            "Training set loss:  0.27857766831694203\n",
            "Validation set loss:  0.39993205573467683\n"
          ]
        }
      ],
      "source": [
        "print(\"SIGMOID\")\n",
        "m1 = MLPClassifier(activation = 'logistic', hidden_layer_sizes =(256, 32),n_iter_no_change=10,batch_size=128,learning_rate_init=0.01)\n",
        "t_losses = []\n",
        "v_losses = []\n",
        "for i in range(100):\n",
        "  print(\"Epoch :\",i)\n",
        "  m1.partial_fit(x_train, y_train, classes=y_train)\n",
        "  train_loss = m1.loss_\n",
        "  t_losses.append(train_loss)\n",
        "  print('Training set loss: ',train_loss)\n",
        "  y_pred = m1.predict_proba(x_val)\n",
        "  val_loss = log_loss(y_val,y_pred)\n",
        "  v_losses.append(val_loss)\n",
        "  print('Validation set loss: ',val_loss)"
      ]
    },
    {
      "cell_type": "code",
      "execution_count": null,
      "metadata": {
        "colab": {
          "base_uri": "https://localhost:8080/",
          "height": 295
        },
        "id": "3Vtc_8Lvw_ZD",
        "outputId": "ea785d8f-34e5-4637-a360-bafc15c54aa4"
      },
      "outputs": [
        {
          "output_type": "display_data",
          "data": {
            "text/plain": [
              "<Figure size 432x288 with 1 Axes>"
            ],
            "image/png": "[encoded data removed]"
          },
          "metadata": {
            "needs_background": "light"
          }
        }
      ],
      "source": [
        "plt.plot( t_losses, label='Training Loss',color = 'c')\n",
        "plt.plot(v_losses, label='Validation Loss',color = 'r')\n",
        "plt.title('Training and Validation Loss')\n",
        "plt.xlabel('Epochs')\n",
        "plt.ylabel('Loss')\n",
        "plt.legend(loc='best')\n",
        "plt.show()"
      ]
    },
    {
      "cell_type": "code",
      "execution_count": null,
      "metadata": {
        "id": "Vvp37cbWxCoX"
      },
      "outputs": [],
      "source": [
        "#c"
      ]
    },
    {
      "cell_type": "code",
      "execution_count": null,
      "metadata": {
        "colab": {
          "base_uri": "https://localhost:8080/"
        },
        "id": "oWQqd2iI8Ero",
        "outputId": "7acca074-4299-41fe-8f55-48e46378acd8"
      },
      "outputs": [
        {
          "output_type": "stream",
          "name": "stdout",
          "text": [
            "SIGMOID\n",
            "Epoch : 0\n",
            "Training set loss:  1.3482552875430087\n",
            "Validation set loss:  0.8716511255399536\n",
            "Epoch : 1\n",
            "Training set loss:  0.7333694994223943\n",
            "Validation set loss:  0.630429984881494\n",
            "Epoch : 2\n",
            "Training set loss:  0.5681664192036846\n",
            "Validation set loss:  0.5130300268261146\n",
            "Epoch : 3\n",
            "Training set loss:  0.47062472296414\n",
            "Validation set loss:  0.4563549428056563\n",
            "Epoch : 4\n",
            "Training set loss:  0.4130065875676305\n",
            "Validation set loss:  0.4094327763745158\n",
            "Epoch : 5\n",
            "Training set loss:  0.3791883559044352\n",
            "Validation set loss:  0.38631117569515555\n",
            "Epoch : 6\n",
            "Training set loss:  0.3541079373381512\n",
            "Validation set loss:  0.36511023455767794\n",
            "Epoch : 7\n",
            "Training set loss:  0.33544741089583424\n",
            "Validation set loss:  0.3600925058885066\n",
            "Epoch : 8\n",
            "Training set loss:  0.3208477866759594\n",
            "Validation set loss:  0.35740797126656476\n",
            "Epoch : 9\n",
            "Training set loss:  0.30703712192047217\n",
            "Validation set loss:  0.3471489738897232\n"
          ]
        }
      ],
      "source": [
        "print(\"SIGMOID\")\n",
        "m1 = MLPClassifier(activation = 'logistic', hidden_layer_sizes =(256,16),n_iter_no_change=10,batch_size=128)\n",
        "t_losses = []\n",
        "v_losses = []\n",
        "for i in range(10):\n",
        "  print(\"Epoch :\",i)\n",
        "  m1.partial_fit(x_train, y_train, classes=y_train)\n",
        "  train_loss = m1.loss_\n",
        "  t_losses.append(train_loss)\n",
        "  print('Training set loss: ',train_loss)\n",
        "  y_pred = m1.predict_proba(x_val)\n",
        "  val_loss = log_loss(y_val,y_pred)\n",
        "  v_losses.append(val_loss)\n",
        "  print('Validation set loss: ',val_loss)"
      ]
    },
    {
      "cell_type": "code",
      "execution_count": null,
      "metadata": {
        "colab": {
          "base_uri": "https://localhost:8080/",
          "height": 295
        },
        "id": "m6yF_bsj8EoL",
        "outputId": "cd9d220e-ae39-4dae-8ec0-563f7fd969f7"
      },
      "outputs": [
        {
          "output_type": "display_data",
          "data": {
            "text/plain": [
              "<Figure size 432x288 with 1 Axes>"
            ],
            "image/png": "[encoded data removed]"
          },
          "metadata": {
            "needs_background": "light"
          }
        }
      ],
      "source": [
        "plt.plot( t_losses, label='Training Loss',color = 'c')\n",
        "plt.plot(v_losses, label='Validation Loss',color = 'r')\n",
        "plt.title('Training and Validation Loss')\n",
        "plt.xlabel('Epochs')\n",
        "plt.ylabel('Loss')\n",
        "plt.legend(loc='best')\n",
        "plt.show()"
      ]
    },
    {
      "cell_type": "code",
      "execution_count": null,
      "metadata": {
        "colab": {
          "base_uri": "https://localhost:8080/"
        },
        "id": "b2O7orpL8ElW",
        "outputId": "7551861a-cabc-4b3a-cc11-8aaf87bf09da"
      },
      "outputs": [
        {
          "output_type": "stream",
          "name": "stdout",
          "text": [
            "SIGMOID\n",
            "Epoch : 0\n",
            "Training set loss:  1.2706314089308566\n",
            "Validation set loss:  0.7459976090662583\n",
            "Epoch : 1\n",
            "Training set loss:  0.6028844041991366\n",
            "Validation set loss:  0.5109184224852733\n",
            "Epoch : 2\n",
            "Training set loss:  0.45830130141028347\n",
            "Validation set loss:  0.43907336230250466\n",
            "Epoch : 3\n",
            "Training set loss:  0.40219107718258956\n",
            "Validation set loss:  0.3990282340287887\n",
            "Epoch : 4\n",
            "Training set loss:  0.3716998379395708\n",
            "Validation set loss:  0.38417818742479765\n",
            "Epoch : 5\n",
            "Training set loss:  0.35320690357841616\n",
            "Validation set loss:  0.3687715383588715\n",
            "Epoch : 6\n",
            "Training set loss:  0.3366240271716322\n",
            "Validation set loss:  0.35681122361757434\n",
            "Epoch : 7\n",
            "Training set loss:  0.3229213776745464\n",
            "Validation set loss:  0.34449676026547477\n",
            "Epoch : 8\n",
            "Training set loss:  0.3133004958520656\n",
            "Validation set loss:  0.35139755958987534\n",
            "Epoch : 9\n",
            "Training set loss:  0.3030691755171668\n",
            "Validation set loss:  0.34742565538945774\n"
          ]
        }
      ],
      "source": [
        "print(\"SIGMOID\")\n",
        "m1 = MLPClassifier(activation = 'logistic', hidden_layer_sizes =(128, 32),n_iter_no_change=10,batch_size=128)\n",
        "t_losses = []\n",
        "v_losses = []\n",
        "for i in range(10):\n",
        "  print(\"Epoch :\",i)\n",
        "  m1.partial_fit(x_train, y_train, classes=y_train)\n",
        "  train_loss = m1.loss_\n",
        "  t_losses.append(train_loss)\n",
        "  print('Training set loss: ',train_loss)\n",
        "  y_pred = m1.predict_proba(x_val)\n",
        "  val_loss = log_loss(y_val,y_pred)\n",
        "  v_losses.append(val_loss)\n",
        "  print('Validation set loss: ',val_loss)"
      ]
    },
    {
      "cell_type": "code",
      "execution_count": null,
      "metadata": {
        "colab": {
          "base_uri": "https://localhost:8080/",
          "height": 295
        },
        "id": "NXX3AIXV8EjJ",
        "outputId": "e89143b5-e4c4-4190-b6d5-71a99c2949e3"
      },
      "outputs": [
        {
          "output_type": "display_data",
          "data": {
            "text/plain": [
              "<Figure size 432x288 with 1 Axes>"
            ],
            "image/png": "[encoded data removed]"
          },
          "metadata": {
            "needs_background": "light"
          }
        }
      ],
      "source": [
        "plt.plot( t_losses, label='Training Loss',color = 'c')\n",
        "plt.plot(v_losses, label='Validation Loss',color = 'r')\n",
        "plt.title('Training and Validation Loss')\n",
        "plt.xlabel('Epochs')\n",
        "plt.ylabel('Loss')\n",
        "plt.legend(loc='best')\n",
        "plt.show()"
      ]
    },
    {
      "cell_type": "code",
      "execution_count": null,
      "metadata": {
        "colab": {
          "base_uri": "https://localhost:8080/"
        },
        "id": "OONFPuRc8Eg3",
        "outputId": "66401213-c409-4911-d44d-d487b6797787"
      },
      "outputs": [
        {
          "output_type": "stream",
          "name": "stdout",
          "text": [
            "SIGMOID\n",
            "Epoch : 0\n",
            "Training set loss:  0.9296572820263658\n",
            "Validation set loss:  0.5665594597666195\n",
            "Epoch : 1\n",
            "Training set loss:  0.5033687164955435\n",
            "Validation set loss:  0.4975098353029899\n",
            "Epoch : 2\n",
            "Training set loss:  0.43822447607095777\n",
            "Validation set loss:  0.45210897827224056\n",
            "Epoch : 3\n",
            "Training set loss:  0.4103699472919406\n",
            "Validation set loss:  0.43094861452414596\n",
            "Epoch : 4\n",
            "Training set loss:  0.39748440157196563\n",
            "Validation set loss:  0.42976467499927345\n",
            "Epoch : 5\n",
            "Training set loss:  0.38454254224559997\n",
            "Validation set loss:  0.40762861196552513\n",
            "Epoch : 6\n",
            "Training set loss:  0.3714178663442049\n",
            "Validation set loss:  0.3968597394023007\n",
            "Epoch : 7\n",
            "Training set loss:  0.36714651028235046\n",
            "Validation set loss:  0.4099309256605212\n",
            "Epoch : 8\n",
            "Training set loss:  0.3573276199905219\n",
            "Validation set loss:  0.39939253935724717\n",
            "Epoch : 9\n",
            "Training set loss:  0.34928789267895577\n",
            "Validation set loss:  0.37948976660650785\n"
          ]
        }
      ],
      "source": [
        "print(\"SIGMOID\")\n",
        "m1 = MLPClassifier(activation = 'logistic', hidden_layer_sizes =(64, 8),n_iter_no_change=10,batch_size=128,learning_rate_init=0.01)\n",
        "t_losses = []\n",
        "v_losses = []\n",
        "for i in range(10):\n",
        "  print(\"Epoch :\",i)\n",
        "  m1.partial_fit(x_train, y_train, classes=y_train)\n",
        "  train_loss = m1.loss_\n",
        "  t_losses.append(train_loss)\n",
        "  print('Training set loss: ',train_loss)\n",
        "  y_pred = m1.predict_proba(x_val)\n",
        "  val_loss = log_loss(y_val,y_pred)\n",
        "  v_losses.append(val_loss)\n",
        "  print('Validation set loss: ',val_loss)"
      ]
    },
    {
      "cell_type": "code",
      "execution_count": null,
      "metadata": {
        "colab": {
          "base_uri": "https://localhost:8080/",
          "height": 295
        },
        "id": "BkY2lOWy8Eer",
        "outputId": "7709cdae-a6f0-4edc-94cb-32d4666dc574"
      },
      "outputs": [
        {
          "output_type": "display_data",
          "data": {
            "text/plain": [
              "<Figure size 432x288 with 1 Axes>"
            ],
            "image/png": "[encoded data removed]"
          },
          "metadata": {
            "needs_background": "light"
          }
        }
      ],
      "source": [
        "plt.plot( t_losses, label='Training Loss',color = 'c')\n",
        "plt.plot(v_losses, label='Validation Loss',color = 'r')\n",
        "plt.title('Training and Validation Loss')\n",
        "plt.xlabel('Epochs')\n",
        "plt.ylabel('Loss')\n",
        "plt.legend(loc='best')\n",
        "plt.show()"
      ]
    },
    {
      "cell_type": "code",
      "execution_count": 8,
      "metadata": {
        "id": "mbD-QJ1V8EcP"
      },
      "outputs": [],
      "source": [
        "from sklearn.model_selection import GridSearchCV"
      ]
    },
    {
      "cell_type": "code",
      "source": [
        "y_df = pd.DataFrame(y_train)\n",
        "y_df.value_counts()"
      ],
      "metadata": {
        "colab": {
          "base_uri": "https://localhost:8080/"
        },
        "id": "-kj9y2BWJhiq",
        "outputId": "3df01b89-4535-4e00-ad40-02a2fcb17663"
      },
      "execution_count": null,
      "outputs": [
        {
          "output_type": "execute_result",
          "data": {
            "text/plain": [
              "0    5132\n",
              "2    5114\n",
              "8    5112\n",
              "6    5111\n",
              "4    5105\n",
              "5    5104\n",
              "9    5102\n",
              "1    5088\n",
              "7    5073\n",
              "3    5059\n",
              "dtype: int64"
            ]
          },
          "metadata": {},
          "execution_count": 47
        }
      ]
    },
    {
      "cell_type": "code",
      "source": [
        "model=MLPClassifier()\n",
        "parameters={'hidden_layer_sizes': [(256,128),(32,16)],\n",
        "            \"activation\":[\"tanh\",\"logistic\"],\n",
        "            \"learning_rate_init\":[0.1,0.01,0.001],\n",
        "            \"max_iter\" : [40],'batch_size': [64,128,256]}\n",
        "grid=GridSearchCV(model,parameters)\n",
        "grid.fit(x_train,y_train)\n",
        "print(grid.best_params_)"
      ],
      "metadata": {
        "colab": {
          "base_uri": "https://localhost:8080/"
        },
        "id": "VqVkLkI_9z84",
        "outputId": "1f563f4d-d6d1-457d-c886-aefb6ec398c3"
      },
      "execution_count": 9,
      "outputs": [
        {
          "output_type": "stream",
          "name": "stderr",
          "text": [
            "/usr/local/lib/python3.7/dist-packages/sklearn/neural_network/_multilayer_perceptron.py:696: ConvergenceWarning: Stochastic Optimizer: Maximum iterations (40) reached and the optimization hasn't converged yet.\n",
            "  ConvergenceWarning,\n",
            "/usr/local/lib/python3.7/dist-packages/sklearn/neural_network/_multilayer_perceptron.py:696: ConvergenceWarning: Stochastic Optimizer: Maximum iterations (40) reached and the optimization hasn't converged yet.\n",
            "  ConvergenceWarning,\n",
            "/usr/local/lib/python3.7/dist-packages/sklearn/neural_network/_multilayer_perceptron.py:696: ConvergenceWarning: Stochastic Optimizer: Maximum iterations (40) reached and the optimization hasn't converged yet.\n",
            "  ConvergenceWarning,\n",
            "/usr/local/lib/python3.7/dist-packages/sklearn/neural_network/_multilayer_perceptron.py:696: ConvergenceWarning: Stochastic Optimizer: Maximum iterations (40) reached and the optimization hasn't converged yet.\n",
            "  ConvergenceWarning,\n",
            "/usr/local/lib/python3.7/dist-packages/sklearn/neural_network/_multilayer_perceptron.py:696: ConvergenceWarning: Stochastic Optimizer: Maximum iterations (40) reached and the optimization hasn't converged yet.\n",
            "  ConvergenceWarning,\n",
            "/usr/local/lib/python3.7/dist-packages/sklearn/neural_network/_multilayer_perceptron.py:696: ConvergenceWarning: Stochastic Optimizer: Maximum iterations (40) reached and the optimization hasn't converged yet.\n",
            "  ConvergenceWarning,\n",
            "/usr/local/lib/python3.7/dist-packages/sklearn/neural_network/_multilayer_perceptron.py:696: ConvergenceWarning: Stochastic Optimizer: Maximum iterations (40) reached and the optimization hasn't converged yet.\n",
            "  ConvergenceWarning,\n",
            "/usr/local/lib/python3.7/dist-packages/sklearn/neural_network/_multilayer_perceptron.py:696: ConvergenceWarning: Stochastic Optimizer: Maximum iterations (40) reached and the optimization hasn't converged yet.\n",
            "  ConvergenceWarning,\n",
            "/usr/local/lib/python3.7/dist-packages/sklearn/neural_network/_multilayer_perceptron.py:696: ConvergenceWarning: Stochastic Optimizer: Maximum iterations (40) reached and the optimization hasn't converged yet.\n",
            "  ConvergenceWarning,\n",
            "/usr/local/lib/python3.7/dist-packages/sklearn/neural_network/_multilayer_perceptron.py:696: ConvergenceWarning: Stochastic Optimizer: Maximum iterations (40) reached and the optimization hasn't converged yet.\n",
            "  ConvergenceWarning,\n",
            "/usr/local/lib/python3.7/dist-packages/sklearn/neural_network/_multilayer_perceptron.py:696: ConvergenceWarning: Stochastic Optimizer: Maximum iterations (40) reached and the optimization hasn't converged yet.\n",
            "  ConvergenceWarning,\n",
            "/usr/local/lib/python3.7/dist-packages/sklearn/neural_network/_multilayer_perceptron.py:696: ConvergenceWarning: Stochastic Optimizer: Maximum iterations (40) reached and the optimization hasn't converged yet.\n",
            "  ConvergenceWarning,\n",
            "/usr/local/lib/python3.7/dist-packages/sklearn/neural_network/_multilayer_perceptron.py:696: ConvergenceWarning: Stochastic Optimizer: Maximum iterations (40) reached and the optimization hasn't converged yet.\n",
            "  ConvergenceWarning,\n",
            "/usr/local/lib/python3.7/dist-packages/sklearn/neural_network/_multilayer_perceptron.py:696: ConvergenceWarning: Stochastic Optimizer: Maximum iterations (40) reached and the optimization hasn't converged yet.\n",
            "  ConvergenceWarning,\n",
            "/usr/local/lib/python3.7/dist-packages/sklearn/neural_network/_multilayer_perceptron.py:696: ConvergenceWarning: Stochastic Optimizer: Maximum iterations (40) reached and the optimization hasn't converged yet.\n",
            "  ConvergenceWarning,\n",
            "/usr/local/lib/python3.7/dist-packages/sklearn/neural_network/_multilayer_perceptron.py:696: ConvergenceWarning: Stochastic Optimizer: Maximum iterations (40) reached and the optimization hasn't converged yet.\n",
            "  ConvergenceWarning,\n",
            "/usr/local/lib/python3.7/dist-packages/sklearn/neural_network/_multilayer_perceptron.py:696: ConvergenceWarning: Stochastic Optimizer: Maximum iterations (40) reached and the optimization hasn't converged yet.\n",
            "  ConvergenceWarning,\n",
            "/usr/local/lib/python3.7/dist-packages/sklearn/neural_network/_multilayer_perceptron.py:696: ConvergenceWarning: Stochastic Optimizer: Maximum iterations (40) reached and the optimization hasn't converged yet.\n",
            "  ConvergenceWarning,\n",
            "/usr/local/lib/python3.7/dist-packages/sklearn/neural_network/_multilayer_perceptron.py:696: ConvergenceWarning: Stochastic Optimizer: Maximum iterations (40) reached and the optimization hasn't converged yet.\n",
            "  ConvergenceWarning,\n",
            "/usr/local/lib/python3.7/dist-packages/sklearn/neural_network/_multilayer_perceptron.py:696: ConvergenceWarning: Stochastic Optimizer: Maximum iterations (40) reached and the optimization hasn't converged yet.\n",
            "  ConvergenceWarning,\n",
            "/usr/local/lib/python3.7/dist-packages/sklearn/neural_network/_multilayer_perceptron.py:696: ConvergenceWarning: Stochastic Optimizer: Maximum iterations (40) reached and the optimization hasn't converged yet.\n",
            "  ConvergenceWarning,\n",
            "/usr/local/lib/python3.7/dist-packages/sklearn/neural_network/_multilayer_perceptron.py:696: ConvergenceWarning: Stochastic Optimizer: Maximum iterations (40) reached and the optimization hasn't converged yet.\n",
            "  ConvergenceWarning,\n",
            "/usr/local/lib/python3.7/dist-packages/sklearn/neural_network/_multilayer_perceptron.py:696: ConvergenceWarning: Stochastic Optimizer: Maximum iterations (40) reached and the optimization hasn't converged yet.\n",
            "  ConvergenceWarning,\n",
            "/usr/local/lib/python3.7/dist-packages/sklearn/neural_network/_multilayer_perceptron.py:696: ConvergenceWarning: Stochastic Optimizer: Maximum iterations (40) reached and the optimization hasn't converged yet.\n",
            "  ConvergenceWarning,\n",
            "/usr/local/lib/python3.7/dist-packages/sklearn/neural_network/_multilayer_perceptron.py:696: ConvergenceWarning: Stochastic Optimizer: Maximum iterations (40) reached and the optimization hasn't converged yet.\n",
            "  ConvergenceWarning,\n",
            "/usr/local/lib/python3.7/dist-packages/sklearn/neural_network/_multilayer_perceptron.py:696: ConvergenceWarning: Stochastic Optimizer: Maximum iterations (40) reached and the optimization hasn't converged yet.\n",
            "  ConvergenceWarning,\n",
            "/usr/local/lib/python3.7/dist-packages/sklearn/neural_network/_multilayer_perceptron.py:696: ConvergenceWarning: Stochastic Optimizer: Maximum iterations (40) reached and the optimization hasn't converged yet.\n",
            "  ConvergenceWarning,\n",
            "/usr/local/lib/python3.7/dist-packages/sklearn/neural_network/_multilayer_perceptron.py:696: ConvergenceWarning: Stochastic Optimizer: Maximum iterations (40) reached and the optimization hasn't converged yet.\n",
            "  ConvergenceWarning,\n",
            "/usr/local/lib/python3.7/dist-packages/sklearn/neural_network/_multilayer_perceptron.py:696: ConvergenceWarning: Stochastic Optimizer: Maximum iterations (40) reached and the optimization hasn't converged yet.\n",
            "  ConvergenceWarning,\n",
            "/usr/local/lib/python3.7/dist-packages/sklearn/neural_network/_multilayer_perceptron.py:696: ConvergenceWarning: Stochastic Optimizer: Maximum iterations (40) reached and the optimization hasn't converged yet.\n",
            "  ConvergenceWarning,\n",
            "/usr/local/lib/python3.7/dist-packages/sklearn/neural_network/_multilayer_perceptron.py:696: ConvergenceWarning: Stochastic Optimizer: Maximum iterations (40) reached and the optimization hasn't converged yet.\n",
            "  ConvergenceWarning,\n",
            "/usr/local/lib/python3.7/dist-packages/sklearn/neural_network/_multilayer_perceptron.py:696: ConvergenceWarning: Stochastic Optimizer: Maximum iterations (40) reached and the optimization hasn't converged yet.\n",
            "  ConvergenceWarning,\n",
            "/usr/local/lib/python3.7/dist-packages/sklearn/neural_network/_multilayer_perceptron.py:696: ConvergenceWarning: Stochastic Optimizer: Maximum iterations (40) reached and the optimization hasn't converged yet.\n",
            "  ConvergenceWarning,\n",
            "/usr/local/lib/python3.7/dist-packages/sklearn/neural_network/_multilayer_perceptron.py:696: ConvergenceWarning: Stochastic Optimizer: Maximum iterations (40) reached and the optimization hasn't converged yet.\n",
            "  ConvergenceWarning,\n",
            "/usr/local/lib/python3.7/dist-packages/sklearn/neural_network/_multilayer_perceptron.py:696: ConvergenceWarning: Stochastic Optimizer: Maximum iterations (40) reached and the optimization hasn't converged yet.\n",
            "  ConvergenceWarning,\n",
            "/usr/local/lib/python3.7/dist-packages/sklearn/neural_network/_multilayer_perceptron.py:696: ConvergenceWarning: Stochastic Optimizer: Maximum iterations (40) reached and the optimization hasn't converged yet.\n",
            "  ConvergenceWarning,\n",
            "/usr/local/lib/python3.7/dist-packages/sklearn/neural_network/_multilayer_perceptron.py:696: ConvergenceWarning: Stochastic Optimizer: Maximum iterations (40) reached and the optimization hasn't converged yet.\n",
            "  ConvergenceWarning,\n",
            "/usr/local/lib/python3.7/dist-packages/sklearn/neural_network/_multilayer_perceptron.py:696: ConvergenceWarning: Stochastic Optimizer: Maximum iterations (40) reached and the optimization hasn't converged yet.\n",
            "  ConvergenceWarning,\n",
            "/usr/local/lib/python3.7/dist-packages/sklearn/neural_network/_multilayer_perceptron.py:696: ConvergenceWarning: Stochastic Optimizer: Maximum iterations (40) reached and the optimization hasn't converged yet.\n",
            "  ConvergenceWarning,\n",
            "/usr/local/lib/python3.7/dist-packages/sklearn/neural_network/_multilayer_perceptron.py:696: ConvergenceWarning: Stochastic Optimizer: Maximum iterations (40) reached and the optimization hasn't converged yet.\n",
            "  ConvergenceWarning,\n",
            "/usr/local/lib/python3.7/dist-packages/sklearn/neural_network/_multilayer_perceptron.py:696: ConvergenceWarning: Stochastic Optimizer: Maximum iterations (40) reached and the optimization hasn't converged yet.\n",
            "  ConvergenceWarning,\n",
            "/usr/local/lib/python3.7/dist-packages/sklearn/neural_network/_multilayer_perceptron.py:696: ConvergenceWarning: Stochastic Optimizer: Maximum iterations (40) reached and the optimization hasn't converged yet.\n",
            "  ConvergenceWarning,\n",
            "/usr/local/lib/python3.7/dist-packages/sklearn/model_selection/_validation.py:372: FitFailedWarning: \n",
            "90 fits failed out of a total of 180.\n",
            "The score on these train-test partitions for these parameters will be set to nan.\n",
            "If these failures are not expected, you can try to debug them by setting error_score='raise'.\n",
            "\n",
            "Below are more details about the failures:\n",
            "--------------------------------------------------------------------------------\n",
            "90 fits failed with the following error:\n",
            "Traceback (most recent call last):\n",
            "  File \"/usr/local/lib/python3.7/dist-packages/sklearn/model_selection/_validation.py\", line 680, in _fit_and_score\n",
            "    estimator.fit(X_train, y_train, **fit_params)\n",
            "  File \"/usr/local/lib/python3.7/dist-packages/sklearn/neural_network/_multilayer_perceptron.py\", line 752, in fit\n",
            "    return self._fit(X, y, incremental=False)\n",
            "  File \"/usr/local/lib/python3.7/dist-packages/sklearn/neural_network/_multilayer_perceptron.py\", line 384, in _fit\n",
            "    self._validate_hyperparameters()\n",
            "  File \"/usr/local/lib/python3.7/dist-packages/sklearn/neural_network/_multilayer_perceptron.py\", line 495, in _validate_hyperparameters\n",
            "    % (self.activation, list(sorted(ACTIVATIONS)))\n",
            "ValueError: The activation 'logistics' is not supported. Supported activations are ['identity', 'logistic', 'relu', 'softmax', 'tanh'].\n",
            "\n",
            "  warnings.warn(some_fits_failed_message, FitFailedWarning)\n",
            "/usr/local/lib/python3.7/dist-packages/sklearn/model_selection/_search.py:972: UserWarning: One or more of the test scores are non-finite: [0.1        0.78443333 0.89036667 0.24406667 0.83651667 0.87876667\n",
            " 0.1        0.81998333 0.8929     0.33853333 0.85171667 0.8801\n",
            " 0.1        0.84366667 0.89588333 0.51968333 0.8649     0.88023333\n",
            "        nan        nan        nan        nan        nan        nan\n",
            "        nan        nan        nan        nan        nan        nan\n",
            "        nan        nan        nan        nan        nan        nan]\n",
            "  category=UserWarning,\n"
          ]
        },
        {
          "output_type": "stream",
          "name": "stdout",
          "text": [
            "{'activation': 'tanh', 'batch_size': 256, 'hidden_layer_sizes': (256, 128), 'learning_rate_init': 0.001, 'max_iter': 40}\n"
          ]
        },
        {
          "output_type": "stream",
          "name": "stderr",
          "text": [
            "/usr/local/lib/python3.7/dist-packages/sklearn/neural_network/_multilayer_perceptron.py:696: ConvergenceWarning: Stochastic Optimizer: Maximum iterations (40) reached and the optimization hasn't converged yet.\n",
            "  ConvergenceWarning,\n"
          ]
        }
      ]
    },
    {
      "cell_type": "code",
      "source": [
        "mlp_gs = MLPClassifier(max_iter=30)\n",
        "parameter_space = {\n",
        "    'hidden_layer_sizes': [(256,128,64),(32,16,8)],\n",
        "    'activation': ['logistic', 'tanh'],\n",
        "    'learning_rate_init': [0.1,0.01,0.001],\n",
        "    'n_iter_no_change': [30],\n",
        "    'batch_size': [64,128,256]\n",
        "}\n",
        "m = GridSearchCV(mlp_gs, parameter_space, n_jobs=-1, cv=5)\n",
        "m.fit(x_train, y_train)"
      ],
      "metadata": {
        "id": "Y_zFQW9tJz2z"
      },
      "execution_count": null,
      "outputs": []
    },
    {
      "cell_type": "code",
      "execution_count": null,
      "metadata": {
        "id": "M-Dqw9Mq9yEf"
      },
      "outputs": [],
      "source": [
        "\n",
        "y_pred = m.predict(x_val)\n",
        "val_loss = log_loss(y_val,y_pred)\n",
        "print(val_loss)\n",
        "# t_losses = []\n",
        "# v_losses = []\n",
        "# for i in range(100):\n",
        "#   print(\"Epoch :\",i)\n",
        "#   m.fit(x_train, y_train)\n",
        "#   train_loss = m.loss_\n",
        "#   t_losses.append(train_loss)\n",
        "#   print('Training set loss: ',train_loss)\n",
        "#   y_pred = m.predict_proba(x_val)\n",
        "#   val_loss = log_loss(y_val,y_pred)\n",
        "#   v_losses.append(val_loss)\n",
        "#   print('Validation set loss: ',val_loss)"
      ]
    },
    {
      "cell_type": "code",
      "execution_count": null,
      "metadata": {
        "id": "tVAM_RR19yA5"
      },
      "outputs": [],
      "source": [
        "print('Best parameters found:\\n', m.best_params_)"
      ]
    }
  ],
  "metadata": {
    "colab": {
      "collapsed_sections": [],
      "provenance": []
    },
    "kernelspec": {
      "display_name": "Python 3",
      "name": "python3"
    },
    "language_info": {
      "name": "python"
    }
  },
  "nbformat": 4,
  "nbformat_minor": 0
}